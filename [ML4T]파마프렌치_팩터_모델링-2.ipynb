{
  "nbformat": 4,
  "nbformat_minor": 2,
  "metadata": {
    "colab": {
      "provenance": []
    },
    "kernelspec": {
      "name": "python3",
      "display_name": "Python 3.7.13 64-bit ('test1': conda)"
    },
    "language_info": {
      "name": "python",
      "version": "3.7.13",
      "mimetype": "text/x-python",
      "codemirror_mode": {
        "name": "ipython",
        "version": 3
      },
      "pygments_lexer": "ipython3",
      "nbconvert_exporter": "python",
      "file_extension": ".py"
    },
    "interpreter": {
      "hash": "06b7c89946588db923a1f8cb26953ae57ac5591435b1a6d420d366b0d42a4322"
    }
  },
  "cells": [
    {
      "cell_type": "markdown",
      "source": [
        "## Fama-French 3factor Model\n",
        "\n",
        "현대 자산운용 업계의 과학적 팩터 투자론의 바이블이라 할 수 있는 Eugene Fama와 Kenneth French 교수가 개발한 factor model은 1993년 3factor 모델로 시작해 2014년 5factor 모델로 발전했다. 이는 자산의 리스크 프리미엄을 측정하는 전통적인 모델인 CAPM의 실효성에 대해 반론을 제기하며 지금까지 우리가 흔히 말하는 우량주, 가치주 등에 대한 운용 전략 개념을 수립한 모델이다. 세부적으로 살펴보면, CAPM에서 개별자산의 수익률은 시장리스크 프리미엄의 민감도 즉 베타계수에 따라 결정된다고 하였는데, 이는 시장의 다른 리스크 팩터들을 고려하지 못한 것이다. 하지만, 파마 프렌치 모델에서는 CAPM에 시장 리스크 프리미엄 뿐만 아니라 기업의 상대적 사이즈, BE/ME(장부가 대비 시장가), 기업이익 그리고 기업의 투자 수준 등이 추가되어 자산의 기대수익률 결정된다고 주장하였다.\n",
        "\n",
        "<br>\n",
        "\n",
        "**Fama-French 5 Factor**\n",
        "* 규모(SMB, Small Minus Big): 기업의 시가총액\n",
        "* 가치(HML, High Minus Low): 시장가치 대비 장부가치\n",
        "* 영업이익(RMW, Robust Minus Weak): 영업활동을 통해 얻는 순수익\n",
        "* 투자(CMA, Conservative Minus Aggressive): 자산대비 투자비용\n",
        "* 시장(Rm-Rf, Excess Return on The Market): 시장 리스크 프리미엄\n",
        "\n",
        "결과적으로, 위 다섯가지 팩터들을 통해 개별자산의 리스크 프리미엄은 시장 리스크 프리미엄 뿐만 아니라 기업 규모, 가치, 영업이익 그리고 투자에 영향을 받는 다는 것을 알 수 있고 아래와 같이 수식을 정리할 수 있다.  \n",
        "\n",
        "<br>\n",
        "\n",
        "$$ R_i-R_f=\\alpha +\\beta _1(R_m-R_f)+\\beta _2SMB+\\beta _3HML+\\beta _4RMW+\\beta _5CM$$"
      ],
      "metadata": {
        "id": "8OjiF9I8E8kz"
      }
    },
    {
      "cell_type": "markdown",
      "source": [
        "\n",
        "## Fama-Macbeth Linear Regression\n",
        "\n",
        "파마 프렌치 모델은 시계열에 따라 리스크 팩터들의 회귀계수를 구하는거였다면, Fama-Macbeth 모델은 자산 수익률에 대해 리스크팩터들의 횡단면적 분석을 시행하는 것이다. 즉, 회귀식의 기준이 시간이 아니라 포트폴리오 내 자산들이다. 이는 리스크팩터가 포트폴리오 수익을 얼마나 발생시키는지에 관한 포트폴리오의 노출을 추정하는 것이다. 하지만 이와같은 추정문제에서 이분산성에 따른 잔차의 공분산, 계열간 상관, 리스크 팩터간 다중공선성이 발생할 수 있어 파마와 맥베스는 횡단면 회귀분석을 2스텝으로 진행하였다.\n",
        "\n",
        "첫번째 단계로는 포트폴리오내 개별자산 i의 수익률에 대해 팩터들의 회귀계수를 추정하는 것이다.\n",
        "\n",
        "<br>\n",
        "\n",
        "$$ r_i=\\beta _0+\\beta _iF_t+\\epsilon _i $$\n",
        "\n",
        "<br>\n",
        "\n",
        "이때, i = (1, ... , N), t = (1, ... T)이고, F는 팩터로 이루어진 매트릭스로, 위의 식을 좀 더 풀어쓰면 아래와 같다.\n",
        "\n",
        "<br>\n",
        "\n",
        "\\begin{align}\n",
        "r_{1,t} &=\\beta _0+\\beta _{1,F_1}F_{1,t}\\ +\\beta _{1,F_2}F_{2,t}+\\cdots +\\beta _{1,F_M}F_{M,t}+\\epsilon _{1,t}\\\\\n",
        "r_{2,t} &=\\beta _0+\\beta _{2,F_1}F_{1,t}\\ +\\beta _{2,F_2}F_{2,t}+\\cdots +\\beta _{2,F_M}F_{M,t}+\\epsilon _{2,t}\n",
        "\\end{align}\n",
        "$$ \\cdots $$\n",
        "\\begin{align}\n",
        "r_{N,t} &=\\beta _0+\\beta _{N,F_1}F_{1,t}\\ +\\beta _{N,F_2}F_{2,t}+\\cdots +\\beta _{N,F_M}F_{M,t}+\\epsilon _{N,t}\n",
        "\\end{align}\n",
        "\n",
        "<br>\n",
        "\n",
        "두번째 단계는 팩터들의 리스크 프리미엄을 추정하기 위해 첫번째 단계에서 구한 팩터별 회귀계수를 독립변수로, t시점의 포트폴리오의 수익률을 맵핑시켜 각 기간동안 리스크프리미엄의 벡터를 구할 수 있다.\n",
        "\n",
        "<br>\n",
        "\n",
        "$$ r_t=\\lambda _0+\\lambda _t\\hat{\\beta }_i $$\n",
        "\n",
        "<br>\n",
        "\n",
        "\\begin{align}\n",
        "r_{i,1} &=\\lambda _{1,0}+\\lambda _{1,1}\\hat{\\beta }_{i,F_1}+\\lambda _{1,2}\\hat{\\beta }_{i,F_2}+\\cdots +\\lambda _{1,M}\\hat{\\beta }_{i,F_M}\\\\\n",
        "r_{i,2} &=\\lambda _{2,0}+\\lambda _{2,1}\\hat{\\beta }_{i,F_1}+\\lambda _{2,2}\\hat{\\beta }_{i,F_2}+\\cdots +\\lambda _{2,M}\\hat{\\beta }_{i,F_M}\\\\\n",
        "\\end{align}\n",
        "$$ \\cdots $$\n",
        "\\begin{align}\n",
        "r_{i,T} &=\\lambda _{T,0}+\\lambda _{T,1}\\hat{\\beta }_{i,F_1}+\\lambda _{T,2}\\hat{\\beta }_{i,F_2}+\\cdots +\\lambda _{T,M}\\hat{\\beta }_{i,F_M}\n",
        "\\end{align}\n",
        "\n",
        "<br>\n",
        "이렇게 구해진 각 팩터의 리스크프리미엄 벡터를 시간 평균으로 계산해 t검정을 실시해 어떤 팩터가 유의미한지 검정한다."
      ],
      "metadata": {
        "id": "XUSbBh_uHpua"
      }
    },
    {
      "cell_type": "markdown",
      "source": [
        "## Code"
      ],
      "metadata": {
        "id": "LAkAgx9EJt6y"
      }
    },
    {
      "cell_type": "markdown",
      "source": [
        "파이썬 실험은 famma french 연구소에서 제공하는 월별 팩터를 사용한다. 우선, web.DataReader로 파마 프렌치 연구소에서 제공하는 다섯개의 팩터에 대한 월별 수익률을 불러온다."
      ],
      "metadata": {
        "id": "TCje_BIlJyFQ"
      }
    },
    {
      "cell_type": "code",
      "execution_count": null,
      "source": [
        "import pandas as pd\n",
        "import numpy as np\n",
        "\n",
        "from statsmodels.api import OLS, add_constant\n",
        "import pandas_datareader.data as web\n",
        "!pip install linearmodels\n",
        "from linearmodels.asset_pricing import LinearFactorModel\n",
        "!pip install yfinance\n",
        "import yfinance as yf\n",
        "import plotly.graph_objects as go\n",
        "!pip install -U kaleido"
      ],
      "outputs": [],
      "metadata": {
        "id": "_FPuDe4Yi2gz"
      }
    },
    {
      "cell_type": "code",
      "execution_count": 2,
      "source": [
        "#팩터 불러오기(월별)\n",
        "ff_factor_data = web.DataReader('F-F_Research_Data_5_Factors_2x3', 'famafrench', start='2012-05', end='2022-07')[0]\n",
        "ff_factor_data.info()"
      ],
      "outputs": [
        {
          "output_type": "stream",
          "name": "stdout",
          "text": [
            "<class 'pandas.core.frame.DataFrame'>\n",
            "PeriodIndex: 123 entries, 2012-05 to 2022-07\n",
            "Freq: M\n",
            "Data columns (total 6 columns):\n",
            " #   Column  Non-Null Count  Dtype  \n",
            "---  ------  --------------  -----  \n",
            " 0   Mkt-RF  123 non-null    float64\n",
            " 1   SMB     123 non-null    float64\n",
            " 2   HML     123 non-null    float64\n",
            " 3   RMW     123 non-null    float64\n",
            " 4   CMA     123 non-null    float64\n",
            " 5   RF      123 non-null    float64\n",
            "dtypes: float64(6)\n",
            "memory usage: 6.7 KB\n"
          ]
        }
      ],
      "metadata": {
        "colab": {
          "base_uri": "https://localhost:8080/"
        },
        "id": "yV_srWIvjniJ",
        "outputId": "2793152b-9209-48b4-fcdd-aa86f49ca1da"
      }
    },
    {
      "cell_type": "markdown",
      "source": [
        "다음으로, 섹터 하나를 하나의 자산으로 생각하고 구성된 포트폴리오인 17 industry portfolios의 수익률을 앞에와 마찬가지로 fama french 연구소 사이트에서 불러오고, 개별자산 수익률에서 무위험 수익률을 뺀다."
      ],
      "metadata": {
        "id": "TB3maXJZJ0vX"
      }
    },
    {
      "cell_type": "code",
      "execution_count": 3,
      "source": [
        "#섹터별 월별 수익률\n",
        "ff_portfolio_data = web.DataReader('17_Industry_Portfolios', 'famafrench', start='2012-05', end='2022-07')[0]\n",
        "ff_portfolio_data = ff_portfolio_data.sub(ff_factor_data.RF, axis=0) #리스크 프리미엄 계산: 섹터별 수익률 - 무위험 수익률\n",
        "ff_portfolio_data"
      ],
      "outputs": [
        {
          "output_type": "execute_result",
          "data": {
            "text/html": [
              "<div>\n",
              "<style scoped>\n",
              "    .dataframe tbody tr th:only-of-type {\n",
              "        vertical-align: middle;\n",
              "    }\n",
              "\n",
              "    .dataframe tbody tr th {\n",
              "        vertical-align: top;\n",
              "    }\n",
              "\n",
              "    .dataframe thead th {\n",
              "        text-align: right;\n",
              "    }\n",
              "</style>\n",
              "<table border=\"1\" class=\"dataframe\">\n",
              "  <thead>\n",
              "    <tr style=\"text-align: right;\">\n",
              "      <th></th>\n",
              "      <th>Food</th>\n",
              "      <th>Mines</th>\n",
              "      <th>Oil</th>\n",
              "      <th>Clths</th>\n",
              "      <th>Durbl</th>\n",
              "      <th>Chems</th>\n",
              "      <th>Cnsum</th>\n",
              "      <th>Cnstr</th>\n",
              "      <th>Steel</th>\n",
              "      <th>FabPr</th>\n",
              "      <th>Machn</th>\n",
              "      <th>Cars</th>\n",
              "      <th>Trans</th>\n",
              "      <th>Utils</th>\n",
              "      <th>Rtail</th>\n",
              "      <th>Finan</th>\n",
              "      <th>Other</th>\n",
              "    </tr>\n",
              "    <tr>\n",
              "      <th>Date</th>\n",
              "      <th></th>\n",
              "      <th></th>\n",
              "      <th></th>\n",
              "      <th></th>\n",
              "      <th></th>\n",
              "      <th></th>\n",
              "      <th></th>\n",
              "      <th></th>\n",
              "      <th></th>\n",
              "      <th></th>\n",
              "      <th></th>\n",
              "      <th></th>\n",
              "      <th></th>\n",
              "      <th></th>\n",
              "      <th></th>\n",
              "      <th></th>\n",
              "      <th></th>\n",
              "    </tr>\n",
              "  </thead>\n",
              "  <tbody>\n",
              "    <tr>\n",
              "      <th>2012-05</th>\n",
              "      <td>-1.40</td>\n",
              "      <td>-14.42</td>\n",
              "      <td>-10.31</td>\n",
              "      <td>-5.53</td>\n",
              "      <td>-11.19</td>\n",
              "      <td>-9.53</td>\n",
              "      <td>-2.91</td>\n",
              "      <td>-6.52</td>\n",
              "      <td>-14.53</td>\n",
              "      <td>-5.43</td>\n",
              "      <td>-8.58</td>\n",
              "      <td>-7.75</td>\n",
              "      <td>-4.74</td>\n",
              "      <td>-0.94</td>\n",
              "      <td>-1.54</td>\n",
              "      <td>-9.06</td>\n",
              "      <td>-5.27</td>\n",
              "    </tr>\n",
              "    <tr>\n",
              "      <th>2012-06</th>\n",
              "      <td>3.86</td>\n",
              "      <td>6.38</td>\n",
              "      <td>5.87</td>\n",
              "      <td>-10.00</td>\n",
              "      <td>-0.82</td>\n",
              "      <td>3.62</td>\n",
              "      <td>5.05</td>\n",
              "      <td>6.23</td>\n",
              "      <td>4.78</td>\n",
              "      <td>0.13</td>\n",
              "      <td>1.40</td>\n",
              "      <td>-6.09</td>\n",
              "      <td>3.54</td>\n",
              "      <td>3.39</td>\n",
              "      <td>2.14</td>\n",
              "      <td>4.53</td>\n",
              "      <td>5.09</td>\n",
              "    </tr>\n",
              "    <tr>\n",
              "      <th>2012-07</th>\n",
              "      <td>0.30</td>\n",
              "      <td>-4.07</td>\n",
              "      <td>3.02</td>\n",
              "      <td>2.11</td>\n",
              "      <td>2.08</td>\n",
              "      <td>-1.06</td>\n",
              "      <td>3.01</td>\n",
              "      <td>-2.91</td>\n",
              "      <td>-1.22</td>\n",
              "      <td>2.84</td>\n",
              "      <td>1.21</td>\n",
              "      <td>0.45</td>\n",
              "      <td>-0.92</td>\n",
              "      <td>3.73</td>\n",
              "      <td>1.70</td>\n",
              "      <td>-1.11</td>\n",
              "      <td>0.02</td>\n",
              "    </tr>\n",
              "    <tr>\n",
              "      <th>2012-08</th>\n",
              "      <td>-0.13</td>\n",
              "      <td>5.00</td>\n",
              "      <td>2.41</td>\n",
              "      <td>8.01</td>\n",
              "      <td>6.35</td>\n",
              "      <td>2.69</td>\n",
              "      <td>-0.38</td>\n",
              "      <td>8.88</td>\n",
              "      <td>-1.09</td>\n",
              "      <td>0.81</td>\n",
              "      <td>5.31</td>\n",
              "      <td>2.87</td>\n",
              "      <td>0.39</td>\n",
              "      <td>-3.35</td>\n",
              "      <td>2.54</td>\n",
              "      <td>4.10</td>\n",
              "      <td>2.24</td>\n",
              "    </tr>\n",
              "    <tr>\n",
              "      <th>2012-09</th>\n",
              "      <td>1.07</td>\n",
              "      <td>8.55</td>\n",
              "      <td>3.79</td>\n",
              "      <td>-0.12</td>\n",
              "      <td>3.26</td>\n",
              "      <td>1.01</td>\n",
              "      <td>2.77</td>\n",
              "      <td>5.61</td>\n",
              "      <td>3.84</td>\n",
              "      <td>3.82</td>\n",
              "      <td>-0.23</td>\n",
              "      <td>2.63</td>\n",
              "      <td>-1.14</td>\n",
              "      <td>2.16</td>\n",
              "      <td>1.73</td>\n",
              "      <td>3.65</td>\n",
              "      <td>4.51</td>\n",
              "    </tr>\n",
              "    <tr>\n",
              "      <th>...</th>\n",
              "      <td>...</td>\n",
              "      <td>...</td>\n",
              "      <td>...</td>\n",
              "      <td>...</td>\n",
              "      <td>...</td>\n",
              "      <td>...</td>\n",
              "      <td>...</td>\n",
              "      <td>...</td>\n",
              "      <td>...</td>\n",
              "      <td>...</td>\n",
              "      <td>...</td>\n",
              "      <td>...</td>\n",
              "      <td>...</td>\n",
              "      <td>...</td>\n",
              "      <td>...</td>\n",
              "      <td>...</td>\n",
              "      <td>...</td>\n",
              "    </tr>\n",
              "    <tr>\n",
              "      <th>2022-03</th>\n",
              "      <td>1.27</td>\n",
              "      <td>9.99</td>\n",
              "      <td>9.88</td>\n",
              "      <td>-1.41</td>\n",
              "      <td>-4.73</td>\n",
              "      <td>4.78</td>\n",
              "      <td>4.38</td>\n",
              "      <td>-5.80</td>\n",
              "      <td>15.17</td>\n",
              "      <td>-0.23</td>\n",
              "      <td>3.10</td>\n",
              "      <td>15.34</td>\n",
              "      <td>1.79</td>\n",
              "      <td>9.67</td>\n",
              "      <td>4.06</td>\n",
              "      <td>-1.00</td>\n",
              "      <td>3.18</td>\n",
              "    </tr>\n",
              "    <tr>\n",
              "      <th>2022-04</th>\n",
              "      <td>3.00</td>\n",
              "      <td>-12.03</td>\n",
              "      <td>-1.26</td>\n",
              "      <td>-6.56</td>\n",
              "      <td>-11.19</td>\n",
              "      <td>-4.39</td>\n",
              "      <td>0.99</td>\n",
              "      <td>-1.14</td>\n",
              "      <td>-6.10</td>\n",
              "      <td>-8.69</td>\n",
              "      <td>-13.65</td>\n",
              "      <td>-16.24</td>\n",
              "      <td>-9.61</td>\n",
              "      <td>-3.72</td>\n",
              "      <td>-12.49</td>\n",
              "      <td>-8.00</td>\n",
              "      <td>-11.33</td>\n",
              "    </tr>\n",
              "    <tr>\n",
              "      <th>2022-05</th>\n",
              "      <td>-1.81</td>\n",
              "      <td>-3.24</td>\n",
              "      <td>15.71</td>\n",
              "      <td>-6.14</td>\n",
              "      <td>-0.70</td>\n",
              "      <td>6.14</td>\n",
              "      <td>1.08</td>\n",
              "      <td>1.41</td>\n",
              "      <td>-8.09</td>\n",
              "      <td>-3.12</td>\n",
              "      <td>2.58</td>\n",
              "      <td>-8.09</td>\n",
              "      <td>-3.43</td>\n",
              "      <td>4.76</td>\n",
              "      <td>-6.14</td>\n",
              "      <td>2.77</td>\n",
              "      <td>-2.29</td>\n",
              "    </tr>\n",
              "    <tr>\n",
              "      <th>2022-06</th>\n",
              "      <td>-1.22</td>\n",
              "      <td>-17.13</td>\n",
              "      <td>-16.47</td>\n",
              "      <td>-12.02</td>\n",
              "      <td>-11.07</td>\n",
              "      <td>-16.02</td>\n",
              "      <td>-1.86</td>\n",
              "      <td>-10.75</td>\n",
              "      <td>-21.09</td>\n",
              "      <td>-7.87</td>\n",
              "      <td>-12.31</td>\n",
              "      <td>-10.23</td>\n",
              "      <td>-5.15</td>\n",
              "      <td>-6.61</td>\n",
              "      <td>-8.01</td>\n",
              "      <td>-9.11</td>\n",
              "      <td>-7.58</td>\n",
              "    </tr>\n",
              "    <tr>\n",
              "      <th>2022-07</th>\n",
              "      <td>3.92</td>\n",
              "      <td>1.19</td>\n",
              "      <td>10.38</td>\n",
              "      <td>11.55</td>\n",
              "      <td>9.68</td>\n",
              "      <td>7.13</td>\n",
              "      <td>-0.53</td>\n",
              "      <td>12.51</td>\n",
              "      <td>20.46</td>\n",
              "      <td>12.33</td>\n",
              "      <td>13.74</td>\n",
              "      <td>26.19</td>\n",
              "      <td>7.29</td>\n",
              "      <td>6.18</td>\n",
              "      <td>16.78</td>\n",
              "      <td>7.30</td>\n",
              "      <td>9.37</td>\n",
              "    </tr>\n",
              "  </tbody>\n",
              "</table>\n",
              "<p>123 rows × 17 columns</p>\n",
              "</div>"
            ],
            "text/plain": [
              "         Food   Mines  Oil    Clths  Durbl  Chems  Cnsum  Cnstr  Steel  FabPr  \\\n",
              "Date                                                                            \n",
              "2012-05  -1.40 -14.42 -10.31  -5.53 -11.19  -9.53  -2.91  -6.52 -14.53  -5.43   \n",
              "2012-06   3.86   6.38   5.87 -10.00  -0.82   3.62   5.05   6.23   4.78   0.13   \n",
              "2012-07   0.30  -4.07   3.02   2.11   2.08  -1.06   3.01  -2.91  -1.22   2.84   \n",
              "2012-08  -0.13   5.00   2.41   8.01   6.35   2.69  -0.38   8.88  -1.09   0.81   \n",
              "2012-09   1.07   8.55   3.79  -0.12   3.26   1.01   2.77   5.61   3.84   3.82   \n",
              "...        ...    ...    ...    ...    ...    ...    ...    ...    ...    ...   \n",
              "2022-03   1.27   9.99   9.88  -1.41  -4.73   4.78   4.38  -5.80  15.17  -0.23   \n",
              "2022-04   3.00 -12.03  -1.26  -6.56 -11.19  -4.39   0.99  -1.14  -6.10  -8.69   \n",
              "2022-05  -1.81  -3.24  15.71  -6.14  -0.70   6.14   1.08   1.41  -8.09  -3.12   \n",
              "2022-06  -1.22 -17.13 -16.47 -12.02 -11.07 -16.02  -1.86 -10.75 -21.09  -7.87   \n",
              "2022-07   3.92   1.19  10.38  11.55   9.68   7.13  -0.53  12.51  20.46  12.33   \n",
              "\n",
              "         Machn  Cars   Trans  Utils  Rtail  Finan  Other  \n",
              "Date                                                      \n",
              "2012-05  -8.58  -7.75  -4.74  -0.94  -1.54  -9.06  -5.27  \n",
              "2012-06   1.40  -6.09   3.54   3.39   2.14   4.53   5.09  \n",
              "2012-07   1.21   0.45  -0.92   3.73   1.70  -1.11   0.02  \n",
              "2012-08   5.31   2.87   0.39  -3.35   2.54   4.10   2.24  \n",
              "2012-09  -0.23   2.63  -1.14   2.16   1.73   3.65   4.51  \n",
              "...        ...    ...    ...    ...    ...    ...    ...  \n",
              "2022-03   3.10  15.34   1.79   9.67   4.06  -1.00   3.18  \n",
              "2022-04 -13.65 -16.24  -9.61  -3.72 -12.49  -8.00 -11.33  \n",
              "2022-05   2.58  -8.09  -3.43   4.76  -6.14   2.77  -2.29  \n",
              "2022-06 -12.31 -10.23  -5.15  -6.61  -8.01  -9.11  -7.58  \n",
              "2022-07  13.74  26.19   7.29   6.18  16.78   7.30   9.37  \n",
              "\n",
              "[123 rows x 17 columns]"
            ]
          },
          "metadata": {},
          "execution_count": 3
        }
      ],
      "metadata": {
        "colab": {
          "base_uri": "https://localhost:8080/",
          "height": 450
        },
        "id": "pYiz4nzXjvj1",
        "outputId": "48040d2d-6872-4ef2-9d6f-36510bbf2165"
      }
    },
    {
      "cell_type": "markdown",
      "source": [
        "factor를 불러오는데 있어서 risk-free rate가 있었는데 이는 개별 수익률에서 무위험 수익률을 차분한 개별자산의 리스크 프리미엄을 구하기 위한 것이었으므로, factor data에서 무위험 수익률을 삭제해주어야 한다."
      ],
      "metadata": {
        "id": "pcipgNvXJ3Qn"
      }
    },
    {
      "cell_type": "code",
      "execution_count": 4,
      "source": [
        "ff_factor_data = ff_factor_data.drop('RF',axis=1)\n",
        "ff_factor_data.info()"
      ],
      "outputs": [
        {
          "output_type": "stream",
          "name": "stdout",
          "text": [
            "<class 'pandas.core.frame.DataFrame'>\n",
            "PeriodIndex: 123 entries, 2012-05 to 2022-07\n",
            "Freq: M\n",
            "Data columns (total 5 columns):\n",
            " #   Column  Non-Null Count  Dtype  \n",
            "---  ------  --------------  -----  \n",
            " 0   Mkt-RF  123 non-null    float64\n",
            " 1   SMB     123 non-null    float64\n",
            " 2   HML     123 non-null    float64\n",
            " 3   RMW     123 non-null    float64\n",
            " 4   CMA     123 non-null    float64\n",
            "dtypes: float64(5)\n",
            "memory usage: 5.8 KB\n"
          ]
        }
      ],
      "metadata": {
        "colab": {
          "base_uri": "https://localhost:8080/"
        },
        "id": "HLQsSLi6XeIM",
        "outputId": "fed1150d-f47b-4c7e-ea16-84c81d1f343f"
      }
    },
    {
      "cell_type": "markdown",
      "source": [
        "### Step 1. 팩터 적재량 추정"
      ],
      "metadata": {
        "id": "D5qPO8iRiMFx"
      }
    },
    {
      "cell_type": "markdown",
      "source": [
        "fama-macbath model의 첫번째 단계를 수행하기 위해, 각 자산들의 팩터 회귀계수를 OLS로 추정한다.\n",
        "\n",
        "**$y_i = \\beta_i X_i + \\epsilon_i$**  \n",
        "$y_i$: 섹터 i의 수익률 vector  \n",
        "$X_i$: 5가지 factor matrix"
      ],
      "metadata": {
        "id": "ZEmB5NS4jzHo"
      }
    },
    {
      "cell_type": "code",
      "execution_count": 5,
      "source": [
        "betas = []\n",
        "for industry in ff_portfolio_data:\n",
        "  step1 = OLS(endog=ff_portfolio_data.loc[ff_factor_data.index,industry], #종속변수\n",
        "              exog=add_constant(ff_factor_data)).fit() #독립변수\n",
        "  betas.append(step1.params.drop('const'))"
      ],
      "outputs": [],
      "metadata": {
        "id": "Fx-f9ifeiSak"
      }
    },
    {
      "cell_type": "code",
      "execution_count": 6,
      "source": [
        "betas = pd.DataFrame(betas, columns=ff_factor_data.columns, index=ff_portfolio_data.columns)\n",
        "betas"
      ],
      "outputs": [
        {
          "output_type": "execute_result",
          "data": {
            "text/html": [
              "<div>\n",
              "<style scoped>\n",
              "    .dataframe tbody tr th:only-of-type {\n",
              "        vertical-align: middle;\n",
              "    }\n",
              "\n",
              "    .dataframe tbody tr th {\n",
              "        vertical-align: top;\n",
              "    }\n",
              "\n",
              "    .dataframe thead th {\n",
              "        text-align: right;\n",
              "    }\n",
              "</style>\n",
              "<table border=\"1\" class=\"dataframe\">\n",
              "  <thead>\n",
              "    <tr style=\"text-align: right;\">\n",
              "      <th></th>\n",
              "      <th>Mkt-RF</th>\n",
              "      <th>SMB</th>\n",
              "      <th>HML</th>\n",
              "      <th>RMW</th>\n",
              "      <th>CMA</th>\n",
              "    </tr>\n",
              "  </thead>\n",
              "  <tbody>\n",
              "    <tr>\n",
              "      <th>Food</th>\n",
              "      <td>0.666214</td>\n",
              "      <td>-0.169965</td>\n",
              "      <td>-0.037184</td>\n",
              "      <td>0.414544</td>\n",
              "      <td>0.362649</td>\n",
              "    </tr>\n",
              "    <tr>\n",
              "      <th>Mines</th>\n",
              "      <td>1.120030</td>\n",
              "      <td>0.156114</td>\n",
              "      <td>0.151371</td>\n",
              "      <td>0.119802</td>\n",
              "      <td>0.701122</td>\n",
              "    </tr>\n",
              "    <tr>\n",
              "      <th>Oil</th>\n",
              "      <td>1.290922</td>\n",
              "      <td>0.347934</td>\n",
              "      <td>0.987479</td>\n",
              "      <td>-0.396248</td>\n",
              "      <td>0.556870</td>\n",
              "    </tr>\n",
              "    <tr>\n",
              "      <th>Clths</th>\n",
              "      <td>0.923506</td>\n",
              "      <td>0.296398</td>\n",
              "      <td>-0.044175</td>\n",
              "      <td>0.508361</td>\n",
              "      <td>-0.372601</td>\n",
              "    </tr>\n",
              "    <tr>\n",
              "      <th>Durbl</th>\n",
              "      <td>1.143216</td>\n",
              "      <td>0.454115</td>\n",
              "      <td>-0.205088</td>\n",
              "      <td>0.127488</td>\n",
              "      <td>0.154653</td>\n",
              "    </tr>\n",
              "    <tr>\n",
              "      <th>Chems</th>\n",
              "      <td>1.133945</td>\n",
              "      <td>0.178573</td>\n",
              "      <td>0.325839</td>\n",
              "      <td>0.145687</td>\n",
              "      <td>0.163010</td>\n",
              "    </tr>\n",
              "    <tr>\n",
              "      <th>Cnsum</th>\n",
              "      <td>0.729389</td>\n",
              "      <td>-0.136710</td>\n",
              "      <td>-0.368836</td>\n",
              "      <td>0.205963</td>\n",
              "      <td>0.757822</td>\n",
              "    </tr>\n",
              "    <tr>\n",
              "      <th>Cnstr</th>\n",
              "      <td>1.058340</td>\n",
              "      <td>0.345225</td>\n",
              "      <td>-0.001877</td>\n",
              "      <td>0.671111</td>\n",
              "      <td>-0.112708</td>\n",
              "    </tr>\n",
              "    <tr>\n",
              "      <th>Steel</th>\n",
              "      <td>1.391540</td>\n",
              "      <td>0.605007</td>\n",
              "      <td>0.462140</td>\n",
              "      <td>0.483490</td>\n",
              "      <td>0.333366</td>\n",
              "    </tr>\n",
              "    <tr>\n",
              "      <th>FabPr</th>\n",
              "      <td>0.950705</td>\n",
              "      <td>0.356611</td>\n",
              "      <td>0.072643</td>\n",
              "      <td>0.117477</td>\n",
              "      <td>-0.156385</td>\n",
              "    </tr>\n",
              "    <tr>\n",
              "      <th>Machn</th>\n",
              "      <td>1.069676</td>\n",
              "      <td>0.165969</td>\n",
              "      <td>-0.028803</td>\n",
              "      <td>0.135385</td>\n",
              "      <td>-0.184599</td>\n",
              "    </tr>\n",
              "    <tr>\n",
              "      <th>Cars</th>\n",
              "      <td>1.570517</td>\n",
              "      <td>0.321050</td>\n",
              "      <td>-0.366454</td>\n",
              "      <td>0.136374</td>\n",
              "      <td>0.388381</td>\n",
              "    </tr>\n",
              "    <tr>\n",
              "      <th>Trans</th>\n",
              "      <td>1.034593</td>\n",
              "      <td>0.207569</td>\n",
              "      <td>0.264182</td>\n",
              "      <td>0.240346</td>\n",
              "      <td>-0.102355</td>\n",
              "    </tr>\n",
              "    <tr>\n",
              "      <th>Utils</th>\n",
              "      <td>0.551102</td>\n",
              "      <td>-0.193515</td>\n",
              "      <td>0.014843</td>\n",
              "      <td>0.256575</td>\n",
              "      <td>0.317941</td>\n",
              "    </tr>\n",
              "    <tr>\n",
              "      <th>Rtail</th>\n",
              "      <td>0.987697</td>\n",
              "      <td>-0.097056</td>\n",
              "      <td>-0.432030</td>\n",
              "      <td>0.199116</td>\n",
              "      <td>0.175919</td>\n",
              "    </tr>\n",
              "    <tr>\n",
              "      <th>Finan</th>\n",
              "      <td>1.002382</td>\n",
              "      <td>0.007664</td>\n",
              "      <td>0.699531</td>\n",
              "      <td>-0.305844</td>\n",
              "      <td>-0.473290</td>\n",
              "    </tr>\n",
              "    <tr>\n",
              "      <th>Other</th>\n",
              "      <td>1.018070</td>\n",
              "      <td>-0.095245</td>\n",
              "      <td>-0.142078</td>\n",
              "      <td>-0.062416</td>\n",
              "      <td>-0.091725</td>\n",
              "    </tr>\n",
              "  </tbody>\n",
              "</table>\n",
              "</div>"
            ],
            "text/plain": [
              "         Mkt-RF       SMB       HML       RMW       CMA\n",
              "Food   0.666214 -0.169965 -0.037184  0.414544  0.362649\n",
              "Mines  1.120030  0.156114  0.151371  0.119802  0.701122\n",
              "Oil    1.290922  0.347934  0.987479 -0.396248  0.556870\n",
              "Clths  0.923506  0.296398 -0.044175  0.508361 -0.372601\n",
              "Durbl  1.143216  0.454115 -0.205088  0.127488  0.154653\n",
              "Chems  1.133945  0.178573  0.325839  0.145687  0.163010\n",
              "Cnsum  0.729389 -0.136710 -0.368836  0.205963  0.757822\n",
              "Cnstr  1.058340  0.345225 -0.001877  0.671111 -0.112708\n",
              "Steel  1.391540  0.605007  0.462140  0.483490  0.333366\n",
              "FabPr  0.950705  0.356611  0.072643  0.117477 -0.156385\n",
              "Machn  1.069676  0.165969 -0.028803  0.135385 -0.184599\n",
              "Cars   1.570517  0.321050 -0.366454  0.136374  0.388381\n",
              "Trans  1.034593  0.207569  0.264182  0.240346 -0.102355\n",
              "Utils  0.551102 -0.193515  0.014843  0.256575  0.317941\n",
              "Rtail  0.987697 -0.097056 -0.432030  0.199116  0.175919\n",
              "Finan  1.002382  0.007664  0.699531 -0.305844 -0.473290\n",
              "Other  1.018070 -0.095245 -0.142078 -0.062416 -0.091725"
            ]
          },
          "metadata": {},
          "execution_count": 6
        }
      ],
      "metadata": {
        "colab": {
          "base_uri": "https://localhost:8080/",
          "height": 576
        },
        "id": "2l-ouveNkbe8",
        "outputId": "b8f0f7e4-b776-4cb6-a4ee-8fa4373ac497"
      }
    },
    {
      "cell_type": "markdown",
      "source": [
        "### Step 2. 팩터의 리스크 프리미엄 추정"
      ],
      "metadata": {
        "id": "a9dnKB62mPTm"
      }
    },
    {
      "cell_type": "markdown",
      "source": [
        "두번째 단계인 리스크프리미엄 추정을 위해 앞서 추정된 회귀계수를 독립변수로 횡단면 선형회귀 분석을 시행해 각 시점별 팩터들의 회귀계수를 추정한다.\n",
        "\n",
        "**$r_t = \\hat{\\beta} \\lambda_t$**  \n",
        "$r_t$: t시점 섹터들의 수익률  \n",
        "$lambda_t$: t시점의 factor에 따른 risk premium"
      ],
      "metadata": {
        "id": "qSm9Xp13q1-t"
      }
    },
    {
      "cell_type": "code",
      "execution_count": 7,
      "source": [
        "lambdas = []\n",
        "for period in ff_portfolio_data.index:\n",
        "  step2 = OLS(endog=ff_portfolio_data.loc[period, betas.index],\n",
        "              exog=betas).fit()\n",
        "  lambdas.append(step2.params)\n",
        "  "
      ],
      "outputs": [],
      "metadata": {
        "id": "RLvqSo41kkur"
      }
    },
    {
      "cell_type": "code",
      "execution_count": 8,
      "source": [
        "lambdas = pd.DataFrame(lambdas, index=ff_portfolio_data.index, columns = betas.columns.tolist())\n",
        "lambdas"
      ],
      "outputs": [
        {
          "output_type": "execute_result",
          "data": {
            "text/html": [
              "<div>\n",
              "<style scoped>\n",
              "    .dataframe tbody tr th:only-of-type {\n",
              "        vertical-align: middle;\n",
              "    }\n",
              "\n",
              "    .dataframe tbody tr th {\n",
              "        vertical-align: top;\n",
              "    }\n",
              "\n",
              "    .dataframe thead th {\n",
              "        text-align: right;\n",
              "    }\n",
              "</style>\n",
              "<table border=\"1\" class=\"dataframe\">\n",
              "  <thead>\n",
              "    <tr style=\"text-align: right;\">\n",
              "      <th></th>\n",
              "      <th>Mkt-RF</th>\n",
              "      <th>SMB</th>\n",
              "      <th>HML</th>\n",
              "      <th>RMW</th>\n",
              "      <th>CMA</th>\n",
              "    </tr>\n",
              "    <tr>\n",
              "      <th>Date</th>\n",
              "      <th></th>\n",
              "      <th></th>\n",
              "      <th></th>\n",
              "      <th></th>\n",
              "      <th></th>\n",
              "    </tr>\n",
              "  </thead>\n",
              "  <tbody>\n",
              "    <tr>\n",
              "      <th>2012-05</th>\n",
              "      <td>-5.366292</td>\n",
              "      <td>-7.409938</td>\n",
              "      <td>-2.884598</td>\n",
              "      <td>1.298433</td>\n",
              "      <td>-1.914822</td>\n",
              "    </tr>\n",
              "    <tr>\n",
              "      <th>2012-06</th>\n",
              "      <td>2.066318</td>\n",
              "      <td>-10.077750</td>\n",
              "      <td>7.613203</td>\n",
              "      <td>3.315729</td>\n",
              "      <td>4.049660</td>\n",
              "    </tr>\n",
              "    <tr>\n",
              "      <th>2012-07</th>\n",
              "      <td>0.877555</td>\n",
              "      <td>-0.685304</td>\n",
              "      <td>-1.659818</td>\n",
              "      <td>-2.024555</td>\n",
              "      <td>0.293619</td>\n",
              "    </tr>\n",
              "    <tr>\n",
              "      <th>2012-08</th>\n",
              "      <td>2.822345</td>\n",
              "      <td>3.342608</td>\n",
              "      <td>-2.063580</td>\n",
              "      <td>-0.114543</td>\n",
              "      <td>-3.870072</td>\n",
              "    </tr>\n",
              "    <tr>\n",
              "      <th>2012-09</th>\n",
              "      <td>2.329997</td>\n",
              "      <td>-0.046291</td>\n",
              "      <td>0.579262</td>\n",
              "      <td>-0.351657</td>\n",
              "      <td>2.275645</td>\n",
              "    </tr>\n",
              "    <tr>\n",
              "      <th>...</th>\n",
              "      <td>...</td>\n",
              "      <td>...</td>\n",
              "      <td>...</td>\n",
              "      <td>...</td>\n",
              "      <td>...</td>\n",
              "    </tr>\n",
              "    <tr>\n",
              "      <th>2022-03</th>\n",
              "      <td>3.090810</td>\n",
              "      <td>-0.567743</td>\n",
              "      <td>2.168206</td>\n",
              "      <td>-1.997776</td>\n",
              "      <td>10.236528</td>\n",
              "    </tr>\n",
              "    <tr>\n",
              "      <th>2022-04</th>\n",
              "      <td>-9.783968</td>\n",
              "      <td>-2.964977</td>\n",
              "      <td>9.888258</td>\n",
              "      <td>10.150162</td>\n",
              "      <td>5.550786</td>\n",
              "    </tr>\n",
              "    <tr>\n",
              "      <th>2022-05</th>\n",
              "      <td>-0.133185</td>\n",
              "      <td>-5.889989</td>\n",
              "      <td>9.185690</td>\n",
              "      <td>-4.341652</td>\n",
              "      <td>2.866338</td>\n",
              "    </tr>\n",
              "    <tr>\n",
              "      <th>2022-06</th>\n",
              "      <td>-7.795457</td>\n",
              "      <td>-6.475697</td>\n",
              "      <td>-5.540320</td>\n",
              "      <td>-2.621306</td>\n",
              "      <td>-1.860149</td>\n",
              "    </tr>\n",
              "    <tr>\n",
              "      <th>2022-07</th>\n",
              "      <td>10.118182</td>\n",
              "      <td>8.685132</td>\n",
              "      <td>-6.235436</td>\n",
              "      <td>-0.988748</td>\n",
              "      <td>-4.602303</td>\n",
              "    </tr>\n",
              "  </tbody>\n",
              "</table>\n",
              "<p>123 rows × 5 columns</p>\n",
              "</div>"
            ],
            "text/plain": [
              "            Mkt-RF        SMB       HML        RMW        CMA\n",
              "Date                                                         \n",
              "2012-05  -5.366292  -7.409938 -2.884598   1.298433  -1.914822\n",
              "2012-06   2.066318 -10.077750  7.613203   3.315729   4.049660\n",
              "2012-07   0.877555  -0.685304 -1.659818  -2.024555   0.293619\n",
              "2012-08   2.822345   3.342608 -2.063580  -0.114543  -3.870072\n",
              "2012-09   2.329997  -0.046291  0.579262  -0.351657   2.275645\n",
              "...            ...        ...       ...        ...        ...\n",
              "2022-03   3.090810  -0.567743  2.168206  -1.997776  10.236528\n",
              "2022-04  -9.783968  -2.964977  9.888258  10.150162   5.550786\n",
              "2022-05  -0.133185  -5.889989  9.185690  -4.341652   2.866338\n",
              "2022-06  -7.795457  -6.475697 -5.540320  -2.621306  -1.860149\n",
              "2022-07  10.118182   8.685132 -6.235436  -0.988748  -4.602303\n",
              "\n",
              "[123 rows x 5 columns]"
            ]
          },
          "metadata": {},
          "execution_count": 8
        }
      ],
      "metadata": {
        "colab": {
          "base_uri": "https://localhost:8080/",
          "height": 450
        },
        "id": "M4dY0-xRn5fx",
        "outputId": "79327436-631a-4ce0-9f63-f104354cc2cb"
      }
    },
    {
      "cell_type": "markdown",
      "source": [
        "### LinearFactorModel Package"
      ],
      "metadata": {
        "id": "KkMCSCQEZYWS"
      }
    },
    {
      "cell_type": "markdown",
      "source": [
        "하지만. LinearFactorModel 패키지를 사용하면 아래와 같이 친절하게 t통계량까지 구해준다. 검정결과를 보면, 최초 파마-맥배스 연구에서는 SMB, HML팩터만 유의미하다고 했다. 그리고 최근 10년의 데이터를 분석한 결과 Mkt-RF를 제외하고는 모두 유의미하지 않다고 나왔다.\n",
        "\n",
        "그리고 해당 팩터들의 24개월(2년) 이동평균선을 시각화 해보았다. 2020년까지 계수 추정치가 크게 변하지 않았는데 2020년 이후로는 계수 추정치가 매우 크게 변동성을 가지는 것으로 보인다. 개별 팩터들을 세부적으로 분석해보면, 시장수익률-무위험수익률인 Mkt-RF의 경우 거의 항상 양수를 가진다. \n",
        "\n",
        "이는 시장(주식)수익률이 무위험(채권)수익률보다 항상 높았다는 것인데 주식이 채권보다 위험자산이기 때문에 리스크-수익률 트레이딩 측면에서 당연한 결과라고 보인다. 시총이 작은 기업에서 큰 기업을 뺀 SMB의 경우 2020년을 기점으로 + 전환하였다. 시총 큰 기업의 수익률이 더 좋았단 것이다.\n",
        "\n",
        "다음으로 HML인데 가치주대비 성장주를 나타낸다. HML은 2020년까지는 -1~1사이를 왔다갔다 했는데 2020년 이후 큰폭으로 하락하더니 다시 상승했다. 즉, 2020년 기점으로 성장주가 우세였다가 2022년 들어 가치주가 우세로 전환한 것이다. 영업이익을 보는 RMW도 2020년 이후 영업이익이 약한 기업이 우세하다가 올해들어 펀더멘털이 좋은 기업이 우세한것으로 보인다. 마지막으로 투자 팩터인 CMA는 2022년 전까지는 그래도 공격적 투자를 하는 기업이 우세했지만 2022년 이후는 보수적 투자를 하는 기업이 우세하다."
      ],
      "metadata": {
        "id": "5716NQ1nKG_K"
      }
    },
    {
      "cell_type": "code",
      "execution_count": 9,
      "source": [
        "model = LinearFactorModel(portfolios=ff_portfolio_data,\n",
        "                          factors=ff_factor_data)\n",
        "res = model.fit()\n",
        "print(res)"
      ],
      "outputs": [
        {
          "output_type": "stream",
          "name": "stdout",
          "text": [
            "                      LinearFactorModel Estimation Summary                      \n",
            "================================================================================\n",
            "No. Test Portfolios:                 17   R-squared:                      0.6889\n",
            "No. Factors:                          5   J-statistic:                    12.859\n",
            "No. Observations:                   123   P-value                         0.3794\n",
            "Date:                  Thu, Nov 03 2022   Distribution:                 chi2(12)\n",
            "Time:                          15:44:16                                         \n",
            "Cov. Estimator:                  robust                                         \n",
            "                                                                                \n",
            "                            Risk Premia Estimates                             \n",
            "==============================================================================\n",
            "            Parameter  Std. Err.     T-stat    P-value    Lower CI    Upper CI\n",
            "------------------------------------------------------------------------------\n",
            "Mkt-RF         1.1528     0.4015     2.8711     0.0041      0.3658      1.9397\n",
            "SMB           -0.7463     0.5454    -1.3683     0.1712     -1.8154      0.3227\n",
            "HML           -0.2917     0.5122    -0.5695     0.5690     -1.2957      0.7122\n",
            "RMW            0.2692     0.5747     0.4684     0.6395     -0.8572      1.3956\n",
            "CMA           -0.4364     0.3615    -1.2069     0.2275     -1.1450      0.2723\n",
            "==============================================================================\n",
            "\n",
            "Covariance estimator:\n",
            "HeteroskedasticCovariance\n",
            "See full_summary for complete results\n"
          ]
        }
      ],
      "metadata": {
        "colab": {
          "base_uri": "https://localhost:8080/"
        },
        "id": "CCgAChESZcYZ",
        "outputId": "46cc3df2-ef06-4b25-cd08-17aee02c7294"
      }
    },
    {
      "cell_type": "markdown",
      "source": [
        "위의 결과를 어떻게 해석할 수 있을까? 우선, Mkt-RF만 유의미 했으므로, 개별자산의 리스크프리미엄에 영향을 주는 요인은 최근 10년에는 시장의 거시적 요인임을 알 수 있다. 나머지 네개의 팩터는 다소 비체계적인 위험요소인데, 그래도 이 팩터들의 추세를 보면 2020년 즉, 코로나 이전까지는 비교적 자산간의 팩터 영향력이 비슷했지만 코로나가 발생하고 거리두기, 재택근무 등 비대면 요소로 인해 IT기업들의 주가가 우세했지만, 2022년 코로나가 잠잠해지고 인플레이션이 이슈로 떠오르면서 투자는 보수적으로 펀더멘털은 탄탄한 가치주가 우세한것으로 확인되었다."
      ],
      "metadata": {
        "id": "owi_qkIqKe16"
      }
    },
    {
      "cell_type": "markdown",
      "source": [
        "### 시각화"
      ],
      "metadata": {
        "id": "boNhTdRUvK2R"
      }
    },
    {
      "cell_type": "code",
      "execution_count": 10,
      "source": [
        "window = 24\n",
        "lambdas_rolling = lambdas.rolling(window).mean().dropna()\n",
        "lambdas_rolling"
      ],
      "outputs": [
        {
          "output_type": "execute_result",
          "data": {
            "text/html": [
              "<div>\n",
              "<style scoped>\n",
              "    .dataframe tbody tr th:only-of-type {\n",
              "        vertical-align: middle;\n",
              "    }\n",
              "\n",
              "    .dataframe tbody tr th {\n",
              "        vertical-align: top;\n",
              "    }\n",
              "\n",
              "    .dataframe thead th {\n",
              "        text-align: right;\n",
              "    }\n",
              "</style>\n",
              "<table border=\"1\" class=\"dataframe\">\n",
              "  <thead>\n",
              "    <tr style=\"text-align: right;\">\n",
              "      <th></th>\n",
              "      <th>Mkt-RF</th>\n",
              "      <th>SMB</th>\n",
              "      <th>HML</th>\n",
              "      <th>RMW</th>\n",
              "      <th>CMA</th>\n",
              "    </tr>\n",
              "    <tr>\n",
              "      <th>Date</th>\n",
              "      <th></th>\n",
              "      <th></th>\n",
              "      <th></th>\n",
              "      <th></th>\n",
              "      <th></th>\n",
              "    </tr>\n",
              "  </thead>\n",
              "  <tbody>\n",
              "    <tr>\n",
              "      <th>2014-04</th>\n",
              "      <td>1.569357</td>\n",
              "      <td>-1.132337</td>\n",
              "      <td>-0.060950</td>\n",
              "      <td>0.398467</td>\n",
              "      <td>-0.655217</td>\n",
              "    </tr>\n",
              "    <tr>\n",
              "      <th>2014-05</th>\n",
              "      <td>1.871990</td>\n",
              "      <td>-1.054544</td>\n",
              "      <td>0.110286</td>\n",
              "      <td>0.421635</td>\n",
              "      <td>-0.683901</td>\n",
              "    </tr>\n",
              "    <tr>\n",
              "      <th>2014-06</th>\n",
              "      <td>1.881734</td>\n",
              "      <td>-0.670441</td>\n",
              "      <td>-0.153122</td>\n",
              "      <td>0.298407</td>\n",
              "      <td>-0.784334</td>\n",
              "    </tr>\n",
              "    <tr>\n",
              "      <th>2014-07</th>\n",
              "      <td>1.718937</td>\n",
              "      <td>-0.509558</td>\n",
              "      <td>-0.071381</td>\n",
              "      <td>0.327103</td>\n",
              "      <td>-0.777086</td>\n",
              "    </tr>\n",
              "    <tr>\n",
              "      <th>2014-08</th>\n",
              "      <td>1.765997</td>\n",
              "      <td>-0.821801</td>\n",
              "      <td>0.067869</td>\n",
              "      <td>0.618142</td>\n",
              "      <td>-0.654677</td>\n",
              "    </tr>\n",
              "    <tr>\n",
              "      <th>...</th>\n",
              "      <td>...</td>\n",
              "      <td>...</td>\n",
              "      <td>...</td>\n",
              "      <td>...</td>\n",
              "      <td>...</td>\n",
              "    </tr>\n",
              "    <tr>\n",
              "      <th>2022-03</th>\n",
              "      <td>2.819167</td>\n",
              "      <td>2.079506</td>\n",
              "      <td>0.284610</td>\n",
              "      <td>-0.546175</td>\n",
              "      <td>1.352437</td>\n",
              "    </tr>\n",
              "    <tr>\n",
              "      <th>2022-04</th>\n",
              "      <td>1.785921</td>\n",
              "      <td>1.829042</td>\n",
              "      <td>0.759821</td>\n",
              "      <td>0.272286</td>\n",
              "      <td>1.366199</td>\n",
              "    </tr>\n",
              "    <tr>\n",
              "      <th>2022-05</th>\n",
              "      <td>1.562265</td>\n",
              "      <td>1.565485</td>\n",
              "      <td>1.179314</td>\n",
              "      <td>-0.233800</td>\n",
              "      <td>1.714156</td>\n",
              "    </tr>\n",
              "    <tr>\n",
              "      <th>2022-06</th>\n",
              "      <td>1.125583</td>\n",
              "      <td>0.862377</td>\n",
              "      <td>1.261046</td>\n",
              "      <td>-0.115245</td>\n",
              "      <td>1.639345</td>\n",
              "    </tr>\n",
              "    <tr>\n",
              "      <th>2022-07</th>\n",
              "      <td>1.261869</td>\n",
              "      <td>1.277840</td>\n",
              "      <td>1.454728</td>\n",
              "      <td>-0.106820</td>\n",
              "      <td>1.408444</td>\n",
              "    </tr>\n",
              "  </tbody>\n",
              "</table>\n",
              "<p>100 rows × 5 columns</p>\n",
              "</div>"
            ],
            "text/plain": [
              "           Mkt-RF       SMB       HML       RMW       CMA\n",
              "Date                                                     \n",
              "2014-04  1.569357 -1.132337 -0.060950  0.398467 -0.655217\n",
              "2014-05  1.871990 -1.054544  0.110286  0.421635 -0.683901\n",
              "2014-06  1.881734 -0.670441 -0.153122  0.298407 -0.784334\n",
              "2014-07  1.718937 -0.509558 -0.071381  0.327103 -0.777086\n",
              "2014-08  1.765997 -0.821801  0.067869  0.618142 -0.654677\n",
              "...           ...       ...       ...       ...       ...\n",
              "2022-03  2.819167  2.079506  0.284610 -0.546175  1.352437\n",
              "2022-04  1.785921  1.829042  0.759821  0.272286  1.366199\n",
              "2022-05  1.562265  1.565485  1.179314 -0.233800  1.714156\n",
              "2022-06  1.125583  0.862377  1.261046 -0.115245  1.639345\n",
              "2022-07  1.261869  1.277840  1.454728 -0.106820  1.408444\n",
              "\n",
              "[100 rows x 5 columns]"
            ]
          },
          "metadata": {},
          "execution_count": 10
        }
      ],
      "metadata": {
        "colab": {
          "base_uri": "https://localhost:8080/",
          "height": 450
        },
        "id": "Qf-kZN_6oBr1",
        "outputId": "18c48824-3d69-4cb4-d0c6-e63d6e7f1179"
      }
    },
    {
      "cell_type": "code",
      "execution_count": 12,
      "source": [
        "colors = ['#ce4912','#fb8500','#042c71','#0b6ab0','#ffb703']\n",
        "fig = go.Figure()\n",
        "\n",
        "for factor,i in zip(['Mkt-RF','SMB','HML','RMW','CMA'],range(0,5)):\n",
        "  fig.add_trace(go.Scatter(x=lambdas_rolling.index.astype('str'), y=lambdas_rolling[factor],mode='lines',line=dict(width=1,color=colors[i]),name=factor))\n",
        "\n",
        "fig.update_layout(\n",
        "        title = dict(text = 'Fama-Macbeth Linear Regression',font = dict(size=20,color='black')),\n",
        "        legend=dict(orientation=\"h\", yanchor=\"bottom\", y=0.93, xanchor=\"right\", x=0.4),\n",
        "        autosize = True,\n",
        "        showlegend = True,\n",
        "        font = dict(size = 8, color = 'black'),\n",
        "        plot_bgcolor = 'white',paper_bgcolor='white',\n",
        "        width=1000,height=600,\n",
        "        xaxis = dict(title = 'Date', showline = True, showgrid = False, showticklabels = True, zeroline=False,mirror = True,\n",
        "                    linecolor = 'black', linewidth = 0.8,ticks = 'outside'),\n",
        "        yaxis = dict(title = '\bFactor Risk Premium', showline = True, showgrid = False, showticklabels = True,zeroline=False, mirror = True,\n",
        "                    linecolor = 'black', linewidth = 0.8,ticks = 'outside'),\n",
        "        annotations=[\n",
        "        dict(xref='paper',yref='paper',x=1.08,y=1.20,align='right',\n",
        "            text='Information',showarrow=False,font=dict(size=8,color='grey')),\n",
        "        dict(xref='paper',yref='paper',x=1.08,y=1.18,align='right',\n",
        "            text='Linkedin: ~/chacehkk',showarrow=False,font=dict(size=8,color='grey')),\n",
        "        dict(xref='paper',yref='paper',x=1.08,y=1.16,align='right',\n",
        "            text='Github: ~/hyksun2015',showarrow=False,font=dict(size=8,color='grey')),\n",
        "        dict(xref='paper',yref='paper',x=1.08,y=-0.08,align='right',\n",
        "            text='Source: famafrench',showarrow=False,font=dict(size=8,color='black')),\n",
        "        dict(xref='paper',yref='paper',x=1.08,y=-0.1,align='right',\n",
        "            text='Data period: 2012.05.01 - 2022.07.31',showarrow=False,font=dict(size=8,color='black'))])\n",
        "\n",
        "fig.show()"
      ],
      "outputs": [
        {
          "output_type": "display_data",
          "data": {
            "application/vnd.plotly.v1+json": {
              "data": [
                {
                  "line": {
                    "color": "#ce4912",
                    "width": 1
                  },
                  "mode": "lines",
                  "name": "Mkt-RF",
                  "x": [
                    "2014-04",
                    "2014-05",
                    "2014-06",
                    "2014-07",
                    "2014-08",
                    "2014-09",
                    "2014-10",
                    "2014-11",
                    "2014-12",
                    "2015-01",
                    "2015-02",
                    "2015-03",
                    "2015-04",
                    "2015-05",
                    "2015-06",
                    "2015-07",
                    "2015-08",
                    "2015-09",
                    "2015-10",
                    "2015-11",
                    "2015-12",
                    "2016-01",
                    "2016-02",
                    "2016-03",
                    "2016-04",
                    "2016-05",
                    "2016-06",
                    "2016-07",
                    "2016-08",
                    "2016-09",
                    "2016-10",
                    "2016-11",
                    "2016-12",
                    "2017-01",
                    "2017-02",
                    "2017-03",
                    "2017-04",
                    "2017-05",
                    "2017-06",
                    "2017-07",
                    "2017-08",
                    "2017-09",
                    "2017-10",
                    "2017-11",
                    "2017-12",
                    "2018-01",
                    "2018-02",
                    "2018-03",
                    "2018-04",
                    "2018-05",
                    "2018-06",
                    "2018-07",
                    "2018-08",
                    "2018-09",
                    "2018-10",
                    "2018-11",
                    "2018-12",
                    "2019-01",
                    "2019-02",
                    "2019-03",
                    "2019-04",
                    "2019-05",
                    "2019-06",
                    "2019-07",
                    "2019-08",
                    "2019-09",
                    "2019-10",
                    "2019-11",
                    "2019-12",
                    "2020-01",
                    "2020-02",
                    "2020-03",
                    "2020-04",
                    "2020-05",
                    "2020-06",
                    "2020-07",
                    "2020-08",
                    "2020-09",
                    "2020-10",
                    "2020-11",
                    "2020-12",
                    "2021-01",
                    "2021-02",
                    "2021-03",
                    "2021-04",
                    "2021-05",
                    "2021-06",
                    "2021-07",
                    "2021-08",
                    "2021-09",
                    "2021-10",
                    "2021-11",
                    "2021-12",
                    "2022-01",
                    "2022-02",
                    "2022-03",
                    "2022-04",
                    "2022-05",
                    "2022-06",
                    "2022-07"
                  ],
                  "y": [
                    1.5693572426996951,
                    1.8719901025936616,
                    1.8817340494856962,
                    1.7189373491384696,
                    1.7659965616627937,
                    1.5842733899330106,
                    1.727136720303925,
                    1.8596446193856113,
                    1.8404127144592406,
                    1.5019550375435067,
                    1.7049821825778888,
                    1.4915986775523928,
                    1.3943899269749638,
                    1.3230952069764803,
                    1.3046174706220641,
                    1.1477107946536311,
                    1.0125578804572113,
                    0.7599854090809726,
                    0.9211844501432275,
                    0.7988717979630041,
                    0.6182897547245152,
                    0.5283568040393581,
                    0.3359591040752546,
                    0.5678067630041685,
                    0.5953725139843645,
                    0.5978154295309476,
                    0.46972528841417643,
                    0.7398930802641855,
                    0.6413073966927324,
                    0.7228280358699455,
                    0.5457057313779426,
                    0.5535788683532021,
                    0.5973878149156656,
                    0.7900833845943818,
                    0.62865746015456,
                    0.6846881585503007,
                    0.7347887832216613,
                    0.7296829824332036,
                    0.8189839451712002,
                    0.7985949735732949,
                    1.0351911037776436,
                    1.2641094275318705,
                    1.0632192969967769,
                    1.214360678829558,
                    1.2913504772508166,
                    1.76371755029557,
                    1.5828524825844468,
                    1.2460644288672478,
                    1.2432462767087382,
                    1.2427061805484547,
                    1.3088434600404721,
                    1.2905541015843536,
                    1.38001770918579,
                    1.3691183729738814,
                    1.1555977760028935,
                    1.1026145836997898,
                    0.6419247560611115,
                    0.895123771825641,
                    0.9389322736521405,
                    0.9567154891681845,
                    1.0983756409415775,
                    0.7524674696228425,
                    0.9760333477740671,
                    0.9696882527763665,
                    0.8821619246087522,
                    0.8158531107413877,
                    0.7788011374637942,
                    0.7502836345839133,
                    0.8969220943789405,
                    0.6974360429738143,
                    0.5060830071886494,
                    0.010291665739902589,
                    0.6228923313982657,
                    0.7600589908807511,
                    0.838041705568636,
                    0.9977005871244721,
                    1.2371419335322766,
                    1.1137895581461648,
                    1.3025286615424423,
                    1.7676353620116536,
                    2.3743515947358467,
                    2.081135109064294,
                    1.9960809859486188,
                    2.045841984037683,
                    2.0570050937684,
                    2.3065280070103076,
                    2.1478660650724652,
                    2.088875402419265,
                    2.2737088175678792,
                    2.0900092660765766,
                    2.3557325295088667,
                    2.177620195380461,
                    2.1529791391542323,
                    1.919101907373756,
                    2.1082982106260513,
                    2.819167164803176,
                    1.7859208128442965,
                    1.5622645913074802,
                    1.1255834998628356,
                    1.2618690008374454
                  ],
                  "type": "scatter"
                },
                {
                  "line": {
                    "color": "#fb8500",
                    "width": 1
                  },
                  "mode": "lines",
                  "name": "SMB",
                  "x": [
                    "2014-04",
                    "2014-05",
                    "2014-06",
                    "2014-07",
                    "2014-08",
                    "2014-09",
                    "2014-10",
                    "2014-11",
                    "2014-12",
                    "2015-01",
                    "2015-02",
                    "2015-03",
                    "2015-04",
                    "2015-05",
                    "2015-06",
                    "2015-07",
                    "2015-08",
                    "2015-09",
                    "2015-10",
                    "2015-11",
                    "2015-12",
                    "2016-01",
                    "2016-02",
                    "2016-03",
                    "2016-04",
                    "2016-05",
                    "2016-06",
                    "2016-07",
                    "2016-08",
                    "2016-09",
                    "2016-10",
                    "2016-11",
                    "2016-12",
                    "2017-01",
                    "2017-02",
                    "2017-03",
                    "2017-04",
                    "2017-05",
                    "2017-06",
                    "2017-07",
                    "2017-08",
                    "2017-09",
                    "2017-10",
                    "2017-11",
                    "2017-12",
                    "2018-01",
                    "2018-02",
                    "2018-03",
                    "2018-04",
                    "2018-05",
                    "2018-06",
                    "2018-07",
                    "2018-08",
                    "2018-09",
                    "2018-10",
                    "2018-11",
                    "2018-12",
                    "2019-01",
                    "2019-02",
                    "2019-03",
                    "2019-04",
                    "2019-05",
                    "2019-06",
                    "2019-07",
                    "2019-08",
                    "2019-09",
                    "2019-10",
                    "2019-11",
                    "2019-12",
                    "2020-01",
                    "2020-02",
                    "2020-03",
                    "2020-04",
                    "2020-05",
                    "2020-06",
                    "2020-07",
                    "2020-08",
                    "2020-09",
                    "2020-10",
                    "2020-11",
                    "2020-12",
                    "2021-01",
                    "2021-02",
                    "2021-03",
                    "2021-04",
                    "2021-05",
                    "2021-06",
                    "2021-07",
                    "2021-08",
                    "2021-09",
                    "2021-10",
                    "2021-11",
                    "2021-12",
                    "2022-01",
                    "2022-02",
                    "2022-03",
                    "2022-04",
                    "2022-05",
                    "2022-06",
                    "2022-07"
                  ],
                  "y": [
                    -1.132336807326575,
                    -1.0545438440088255,
                    -0.6704413623280172,
                    -0.5095583402208036,
                    -0.8218009703319461,
                    -0.9698183823402889,
                    -1.2961455353488045,
                    -1.73421634745638,
                    -1.9436672306330482,
                    -1.9329563665821574,
                    -1.7884350882611004,
                    -1.50185532873212,
                    -1.109021090317619,
                    -1.6353810301136391,
                    -1.4231149790497561,
                    -1.806228582207055,
                    -1.7928055935714982,
                    -2.2024721555103883,
                    -2.2724877702582122,
                    -2.1750962413218002,
                    -2.3478070011576935,
                    -2.3055633215827975,
                    -1.9531480129873036,
                    -1.727164718195654,
                    -1.6051523483817423,
                    -1.672377403195094,
                    -1.8672271104197853,
                    -1.7334473280363492,
                    -1.612130843221844,
                    -1.498537045840479,
                    -1.5129950964892542,
                    -0.7107534018507958,
                    -0.9085376191402835,
                    -0.808386110110768,
                    -0.9970264023287928,
                    -1.109358374131104,
                    -1.1898938184669279,
                    -1.2439718378023998,
                    -1.2034552358248736,
                    -0.9932525142441797,
                    -1.359718638172282,
                    -0.8109327004576189,
                    -0.828808199488889,
                    -1.1230813171530118,
                    -0.768680542153109,
                    -0.8024266378582284,
                    -0.9873345583667305,
                    -1.177252130895183,
                    -1.2296369937105134,
                    -0.7966195821303875,
                    -0.8254469716876557,
                    -1.2413578219083703,
                    -1.4278066422759352,
                    -1.3268074328326647,
                    -1.4455274882685865,
                    -2.110893188213136,
                    -1.731037748843395,
                    -1.5256923827020341,
                    -1.1924271599477196,
                    -1.4038052346678922,
                    -1.6545480722255743,
                    -1.5941923936141114,
                    -1.4583977897968488,
                    -1.170071580789326,
                    -1.3313698958957547,
                    -1.6070352951319116,
                    -1.2422383637072278,
                    -1.0305570557447812,
                    -1.3858950302454882,
                    -1.652413009454319,
                    -1.4862611765329747,
                    -1.6083150017370453,
                    -1.5335399990309926,
                    -1.6502375104698592,
                    -0.9574687916986905,
                    -0.8612496358591136,
                    -0.2200548265510931,
                    -0.18357046463260654,
                    0.3998732195407393,
                    0.8753313786049451,
                    1.0235972289172526,
                    1.1987318922313392,
                    1.3153288599860866,
                    1.3614664253768713,
                    1.4088355349138615,
                    1.7421879728526541,
                    1.7016713247337663,
                    1.6605399286613636,
                    1.7599656967360586,
                    1.8833685708646775,
                    1.9480083261555627,
                    1.9937366800610292,
                    1.6602015248619166,
                    1.8430487355402818,
                    1.9139893472679752,
                    2.0795056677512016,
                    1.8290418531337576,
                    1.5654852688620184,
                    0.8623767074754204,
                    1.2778404379738488
                  ],
                  "type": "scatter"
                },
                {
                  "line": {
                    "color": "#042c71",
                    "width": 1
                  },
                  "mode": "lines",
                  "name": "HML",
                  "x": [
                    "2014-04",
                    "2014-05",
                    "2014-06",
                    "2014-07",
                    "2014-08",
                    "2014-09",
                    "2014-10",
                    "2014-11",
                    "2014-12",
                    "2015-01",
                    "2015-02",
                    "2015-03",
                    "2015-04",
                    "2015-05",
                    "2015-06",
                    "2015-07",
                    "2015-08",
                    "2015-09",
                    "2015-10",
                    "2015-11",
                    "2015-12",
                    "2016-01",
                    "2016-02",
                    "2016-03",
                    "2016-04",
                    "2016-05",
                    "2016-06",
                    "2016-07",
                    "2016-08",
                    "2016-09",
                    "2016-10",
                    "2016-11",
                    "2016-12",
                    "2017-01",
                    "2017-02",
                    "2017-03",
                    "2017-04",
                    "2017-05",
                    "2017-06",
                    "2017-07",
                    "2017-08",
                    "2017-09",
                    "2017-10",
                    "2017-11",
                    "2017-12",
                    "2018-01",
                    "2018-02",
                    "2018-03",
                    "2018-04",
                    "2018-05",
                    "2018-06",
                    "2018-07",
                    "2018-08",
                    "2018-09",
                    "2018-10",
                    "2018-11",
                    "2018-12",
                    "2019-01",
                    "2019-02",
                    "2019-03",
                    "2019-04",
                    "2019-05",
                    "2019-06",
                    "2019-07",
                    "2019-08",
                    "2019-09",
                    "2019-10",
                    "2019-11",
                    "2019-12",
                    "2020-01",
                    "2020-02",
                    "2020-03",
                    "2020-04",
                    "2020-05",
                    "2020-06",
                    "2020-07",
                    "2020-08",
                    "2020-09",
                    "2020-10",
                    "2020-11",
                    "2020-12",
                    "2021-01",
                    "2021-02",
                    "2021-03",
                    "2021-04",
                    "2021-05",
                    "2021-06",
                    "2021-07",
                    "2021-08",
                    "2021-09",
                    "2021-10",
                    "2021-11",
                    "2021-12",
                    "2022-01",
                    "2022-02",
                    "2022-03",
                    "2022-04",
                    "2022-05",
                    "2022-06",
                    "2022-07"
                  ],
                  "y": [
                    -0.06095026433493512,
                    0.11028645130338866,
                    -0.15312172995331774,
                    -0.07138090025352846,
                    0.06786855308340459,
                    0.010162935562524492,
                    -0.048075769416802784,
                    -0.24412631749139138,
                    -0.36213299314197167,
                    -0.5001630025705533,
                    -0.5018011865099589,
                    -0.5677892310750116,
                    -0.33386467802112735,
                    -0.34329412659656144,
                    -0.38491656699632076,
                    -0.5804703350397991,
                    -0.49992900492801473,
                    -0.5336509308798875,
                    -0.5051238628824909,
                    -0.4427983157782927,
                    -0.7039361105530443,
                    -0.738323005244209,
                    -0.7007623065726277,
                    -0.7015703107006016,
                    -0.46316898714372706,
                    -0.6235657128327717,
                    -0.5226736254433464,
                    -0.6474942379174606,
                    -0.7420733977122606,
                    -0.636567515984758,
                    -0.40753138261856936,
                    0.13016501416248952,
                    0.24449337380075317,
                    0.31109438853713905,
                    0.39183207890970645,
                    0.3767059243315483,
                    0.1252073977325697,
                    0.12652829734043733,
                    0.25650660231648303,
                    0.6370665053998472,
                    0.5875886352653985,
                    0.734699095288323,
                    0.6870747225744678,
                    0.6592627770152139,
                    1.0309529592854088,
                    0.9457588644545053,
                    0.86910014458463,
                    0.8250384460163827,
                    0.6666354107902378,
                    0.7943458508500294,
                    0.5746037827673796,
                    0.7408224937085008,
                    0.5248830293109165,
                    0.46599281717470986,
                    0.23870851630163212,
                    -0.13559750261065515,
                    -0.33150661197180603,
                    -0.22342352630076037,
                    -0.35765927781996315,
                    -0.26911700198699157,
                    -0.1820274790467674,
                    -0.18173276212864511,
                    -0.20631359178860817,
                    -0.4897587991926972,
                    -0.6044987034311606,
                    -0.518074370431419,
                    -0.8027873639746633,
                    -0.764899337766067,
                    -0.9889242880818284,
                    -1.2678688436359653,
                    -1.4270186519667172,
                    -2.067133474121574,
                    -2.289540963877099,
                    -2.3446566123310144,
                    -2.5921929974723024,
                    -3.0996654156808137,
                    -3.493357842063146,
                    -3.6211091125556174,
                    -3.474707862404843,
                    -3.3136993909221086,
                    -3.380867746620339,
                    -3.737793381581659,
                    -2.933346038630841,
                    -2.4334124472031764,
                    -2.460378024659612,
                    -1.9574071411535903,
                    -2.328990894958443,
                    -2.268854271546915,
                    -2.167245125138238,
                    -2.244414108427844,
                    -2.209103646286673,
                    -2.402943884841079,
                    -2.0258761628884128,
                    -1.1231492885616212,
                    -0.34140527948729416,
                    0.28460965598502186,
                    0.7598205696604019,
                    1.1793144692888131,
                    1.2610455556394315,
                    1.4547282606152978
                  ],
                  "type": "scatter"
                },
                {
                  "line": {
                    "color": "#0b6ab0",
                    "width": 1
                  },
                  "mode": "lines",
                  "name": "RMW",
                  "x": [
                    "2014-04",
                    "2014-05",
                    "2014-06",
                    "2014-07",
                    "2014-08",
                    "2014-09",
                    "2014-10",
                    "2014-11",
                    "2014-12",
                    "2015-01",
                    "2015-02",
                    "2015-03",
                    "2015-04",
                    "2015-05",
                    "2015-06",
                    "2015-07",
                    "2015-08",
                    "2015-09",
                    "2015-10",
                    "2015-11",
                    "2015-12",
                    "2016-01",
                    "2016-02",
                    "2016-03",
                    "2016-04",
                    "2016-05",
                    "2016-06",
                    "2016-07",
                    "2016-08",
                    "2016-09",
                    "2016-10",
                    "2016-11",
                    "2016-12",
                    "2017-01",
                    "2017-02",
                    "2017-03",
                    "2017-04",
                    "2017-05",
                    "2017-06",
                    "2017-07",
                    "2017-08",
                    "2017-09",
                    "2017-10",
                    "2017-11",
                    "2017-12",
                    "2018-01",
                    "2018-02",
                    "2018-03",
                    "2018-04",
                    "2018-05",
                    "2018-06",
                    "2018-07",
                    "2018-08",
                    "2018-09",
                    "2018-10",
                    "2018-11",
                    "2018-12",
                    "2019-01",
                    "2019-02",
                    "2019-03",
                    "2019-04",
                    "2019-05",
                    "2019-06",
                    "2019-07",
                    "2019-08",
                    "2019-09",
                    "2019-10",
                    "2019-11",
                    "2019-12",
                    "2020-01",
                    "2020-02",
                    "2020-03",
                    "2020-04",
                    "2020-05",
                    "2020-06",
                    "2020-07",
                    "2020-08",
                    "2020-09",
                    "2020-10",
                    "2020-11",
                    "2020-12",
                    "2021-01",
                    "2021-02",
                    "2021-03",
                    "2021-04",
                    "2021-05",
                    "2021-06",
                    "2021-07",
                    "2021-08",
                    "2021-09",
                    "2021-10",
                    "2021-11",
                    "2021-12",
                    "2022-01",
                    "2022-02",
                    "2022-03",
                    "2022-04",
                    "2022-05",
                    "2022-06",
                    "2022-07"
                  ],
                  "y": [
                    0.39846729538138,
                    0.42163504158823567,
                    0.29840661361431353,
                    0.32710279106389845,
                    0.6181422503907267,
                    0.7712843519883249,
                    0.9262668064875318,
                    1.0092974845961091,
                    0.9606712279094052,
                    0.9330555728748976,
                    0.8682176094392542,
                    0.7651252389746116,
                    0.4855953385875922,
                    0.7609654797425683,
                    0.7452773484533258,
                    0.9414955830102146,
                    1.1025074978348044,
                    1.0147080406539863,
                    0.821096172551926,
                    0.8311441771639991,
                    0.8184968397040543,
                    0.9352923525490614,
                    1.0405074284889633,
                    1.1316641411793176,
                    1.1863591970063203,
                    0.9592281641361708,
                    1.2134987883345167,
                    1.3509442095521214,
                    0.8097233165115112,
                    0.5498130647156565,
                    0.3402399155748315,
                    0.09790856250734796,
                    0.18782768799148933,
                    0.2860228920599313,
                    0.5956511657983455,
                    0.6139410818341843,
                    0.8071396045782128,
                    0.7438553575595616,
                    0.8204997284708582,
                    0.7263572663679235,
                    0.7577245126945917,
                    0.5943381787465127,
                    0.7461347085026057,
                    0.8978058667888075,
                    1.0458690582084988,
                    0.8462098834646817,
                    0.6214196010786784,
                    0.5293344006559108,
                    0.4223523598240179,
                    0.582516478638667,
                    0.4363309571243931,
                    0.43532993807933557,
                    0.6205795635304331,
                    0.739179522905126,
                    0.666822106326184,
                    0.6998879789928397,
                    0.625021331029958,
                    0.6359655947720474,
                    0.32723251600705544,
                    0.37576895171045305,
                    0.3814359659042927,
                    0.29710476624037924,
                    0.3845017030360938,
                    0.2389236106306735,
                    0.36013127083025726,
                    0.7263846190655322,
                    0.43051408079123615,
                    0.24480335162453729,
                    -0.02650507081202147,
                    -0.034842919543022065,
                    -0.07402780863145404,
                    -0.26136495772706253,
                    -0.5686040948475944,
                    -0.2537231767014461,
                    -0.6045110784260337,
                    -0.7349180643355955,
                    -0.9480898061553943,
                    -0.6099052510104501,
                    -0.4166665482128429,
                    -0.8147295852909422,
                    -1.0650821051042927,
                    -1.631481333165148,
                    -1.59747441681811,
                    -0.8389458516907687,
                    -0.7972008639888798,
                    -0.4628922679585182,
                    -0.9659821138875874,
                    -0.6047774358767529,
                    -0.7519366022707229,
                    -1.4319091226204075,
                    -1.3300279145762903,
                    -1.2189824917310688,
                    -0.690816512420727,
                    -0.9722900714716847,
                    -0.5982228936410957,
                    -0.5461753133992059,
                    0.27228552982596543,
                    -0.23379977584785352,
                    -0.11524499334860776,
                    -0.10681995257584846
                  ],
                  "type": "scatter"
                },
                {
                  "line": {
                    "color": "#ffb703",
                    "width": 1
                  },
                  "mode": "lines",
                  "name": "CMA",
                  "x": [
                    "2014-04",
                    "2014-05",
                    "2014-06",
                    "2014-07",
                    "2014-08",
                    "2014-09",
                    "2014-10",
                    "2014-11",
                    "2014-12",
                    "2015-01",
                    "2015-02",
                    "2015-03",
                    "2015-04",
                    "2015-05",
                    "2015-06",
                    "2015-07",
                    "2015-08",
                    "2015-09",
                    "2015-10",
                    "2015-11",
                    "2015-12",
                    "2016-01",
                    "2016-02",
                    "2016-03",
                    "2016-04",
                    "2016-05",
                    "2016-06",
                    "2016-07",
                    "2016-08",
                    "2016-09",
                    "2016-10",
                    "2016-11",
                    "2016-12",
                    "2017-01",
                    "2017-02",
                    "2017-03",
                    "2017-04",
                    "2017-05",
                    "2017-06",
                    "2017-07",
                    "2017-08",
                    "2017-09",
                    "2017-10",
                    "2017-11",
                    "2017-12",
                    "2018-01",
                    "2018-02",
                    "2018-03",
                    "2018-04",
                    "2018-05",
                    "2018-06",
                    "2018-07",
                    "2018-08",
                    "2018-09",
                    "2018-10",
                    "2018-11",
                    "2018-12",
                    "2019-01",
                    "2019-02",
                    "2019-03",
                    "2019-04",
                    "2019-05",
                    "2019-06",
                    "2019-07",
                    "2019-08",
                    "2019-09",
                    "2019-10",
                    "2019-11",
                    "2019-12",
                    "2020-01",
                    "2020-02",
                    "2020-03",
                    "2020-04",
                    "2020-05",
                    "2020-06",
                    "2020-07",
                    "2020-08",
                    "2020-09",
                    "2020-10",
                    "2020-11",
                    "2020-12",
                    "2021-01",
                    "2021-02",
                    "2021-03",
                    "2021-04",
                    "2021-05",
                    "2021-06",
                    "2021-07",
                    "2021-08",
                    "2021-09",
                    "2021-10",
                    "2021-11",
                    "2021-12",
                    "2022-01",
                    "2022-02",
                    "2022-03",
                    "2022-04",
                    "2022-05",
                    "2022-06",
                    "2022-07"
                  ],
                  "y": [
                    -0.6552167375749324,
                    -0.6839011950422846,
                    -0.7843338226214426,
                    -0.7770864025879988,
                    -0.6546768413134944,
                    -0.9533061254802332,
                    -1.20952212400735,
                    -1.352987278542864,
                    -1.4875733199903303,
                    -1.4346113281920705,
                    -1.3860225843653209,
                    -1.4731959537963217,
                    -1.0338692482316796,
                    -1.0260415108116012,
                    -1.099146121792227,
                    -1.3799092445823762,
                    -1.3877460022351062,
                    -1.3910740377994386,
                    -1.4031668456892346,
                    -1.3124839202552472,
                    -1.3641673021379537,
                    -1.2925249266623806,
                    -1.169736089467991,
                    -1.046546850862642,
                    -0.9473409254002934,
                    -0.9577713204401456,
                    -0.7432278202316148,
                    -0.7893986764938544,
                    -1.0432616674201165,
                    -0.7391425098614107,
                    -0.53727197928433,
                    -0.30424304519228346,
                    -0.14721735242901043,
                    -0.16135646627653324,
                    -0.22498652841731123,
                    -0.16934088672612954,
                    -0.5427137722581813,
                    -0.4027080493438036,
                    -0.3778508092853503,
                    -0.0103638847084217,
                    -0.051953043439688595,
                    -0.0036571961639406125,
                    -0.22244028186473566,
                    -0.2273472127623235,
                    -0.02748306183264826,
                    -0.29617636845401124,
                    -0.5382063700758385,
                    -0.6236067674492863,
                    -0.9079216115118086,
                    -0.8280686753145021,
                    -1.10881347075935,
                    -1.169285823613965,
                    -1.187033659114908,
                    -1.2888005256832271,
                    -1.1391655627120278,
                    -1.2099064668031392,
                    -1.1635131834043329,
                    -1.3056236566380999,
                    -1.2319581992966435,
                    -1.063349486724353,
                    -1.259074092355619,
                    -1.1983609775611705,
                    -0.9879832711307951,
                    -1.2073904123476578,
                    -1.280422645795625,
                    -1.2274691410366871,
                    -1.09285429941687,
                    -1.0559419820077356,
                    -1.131044732029881,
                    -1.1267602960745353,
                    -1.09669719386103,
                    -1.1135697646622236,
                    -0.9421952101557873,
                    -1.1316746701903653,
                    -1.136472394032103,
                    -1.0101725552394083,
                    -0.8651068979114832,
                    -1.0692053177340692,
                    -1.1510640937192438,
                    -1.0950363179995042,
                    -1.0330540685276237,
                    -0.8021092365711775,
                    -0.6459557538817783,
                    -0.672273901170275,
                    -0.4946311194632558,
                    -0.26277869603241305,
                    -0.4715120988111008,
                    -0.3420899474985955,
                    -0.38856467472429707,
                    -0.26376652732236844,
                    -0.20874055267670302,
                    -0.19584685235801266,
                    -0.058690208198885964,
                    0.4612376900319393,
                    0.9762896199865275,
                    1.352436560382233,
                    1.366199232023649,
                    1.7141556068757717,
                    1.6393452271899653,
                    1.408444423580601
                  ],
                  "type": "scatter"
                }
              ],
              "layout": {
                "template": {
                  "data": {
                    "bar": [
                      {
                        "error_x": {
                          "color": "#2a3f5f"
                        },
                        "error_y": {
                          "color": "#2a3f5f"
                        },
                        "marker": {
                          "line": {
                            "color": "#E5ECF6",
                            "width": 0.5
                          },
                          "pattern": {
                            "fillmode": "overlay",
                            "size": 10,
                            "solidity": 0.2
                          }
                        },
                        "type": "bar"
                      }
                    ],
                    "barpolar": [
                      {
                        "marker": {
                          "line": {
                            "color": "#E5ECF6",
                            "width": 0.5
                          },
                          "pattern": {
                            "fillmode": "overlay",
                            "size": 10,
                            "solidity": 0.2
                          }
                        },
                        "type": "barpolar"
                      }
                    ],
                    "carpet": [
                      {
                        "aaxis": {
                          "endlinecolor": "#2a3f5f",
                          "gridcolor": "white",
                          "linecolor": "white",
                          "minorgridcolor": "white",
                          "startlinecolor": "#2a3f5f"
                        },
                        "baxis": {
                          "endlinecolor": "#2a3f5f",
                          "gridcolor": "white",
                          "linecolor": "white",
                          "minorgridcolor": "white",
                          "startlinecolor": "#2a3f5f"
                        },
                        "type": "carpet"
                      }
                    ],
                    "choropleth": [
                      {
                        "colorbar": {
                          "outlinewidth": 0,
                          "ticks": ""
                        },
                        "type": "choropleth"
                      }
                    ],
                    "contour": [
                      {
                        "colorbar": {
                          "outlinewidth": 0,
                          "ticks": ""
                        },
                        "colorscale": [
                          [
                            0,
                            "#0d0887"
                          ],
                          [
                            0.1111111111111111,
                            "#46039f"
                          ],
                          [
                            0.2222222222222222,
                            "#7201a8"
                          ],
                          [
                            0.3333333333333333,
                            "#9c179e"
                          ],
                          [
                            0.4444444444444444,
                            "#bd3786"
                          ],
                          [
                            0.5555555555555556,
                            "#d8576b"
                          ],
                          [
                            0.6666666666666666,
                            "#ed7953"
                          ],
                          [
                            0.7777777777777778,
                            "#fb9f3a"
                          ],
                          [
                            0.8888888888888888,
                            "#fdca26"
                          ],
                          [
                            1,
                            "#f0f921"
                          ]
                        ],
                        "type": "contour"
                      }
                    ],
                    "contourcarpet": [
                      {
                        "colorbar": {
                          "outlinewidth": 0,
                          "ticks": ""
                        },
                        "type": "contourcarpet"
                      }
                    ],
                    "heatmap": [
                      {
                        "colorbar": {
                          "outlinewidth": 0,
                          "ticks": ""
                        },
                        "colorscale": [
                          [
                            0,
                            "#0d0887"
                          ],
                          [
                            0.1111111111111111,
                            "#46039f"
                          ],
                          [
                            0.2222222222222222,
                            "#7201a8"
                          ],
                          [
                            0.3333333333333333,
                            "#9c179e"
                          ],
                          [
                            0.4444444444444444,
                            "#bd3786"
                          ],
                          [
                            0.5555555555555556,
                            "#d8576b"
                          ],
                          [
                            0.6666666666666666,
                            "#ed7953"
                          ],
                          [
                            0.7777777777777778,
                            "#fb9f3a"
                          ],
                          [
                            0.8888888888888888,
                            "#fdca26"
                          ],
                          [
                            1,
                            "#f0f921"
                          ]
                        ],
                        "type": "heatmap"
                      }
                    ],
                    "heatmapgl": [
                      {
                        "colorbar": {
                          "outlinewidth": 0,
                          "ticks": ""
                        },
                        "colorscale": [
                          [
                            0,
                            "#0d0887"
                          ],
                          [
                            0.1111111111111111,
                            "#46039f"
                          ],
                          [
                            0.2222222222222222,
                            "#7201a8"
                          ],
                          [
                            0.3333333333333333,
                            "#9c179e"
                          ],
                          [
                            0.4444444444444444,
                            "#bd3786"
                          ],
                          [
                            0.5555555555555556,
                            "#d8576b"
                          ],
                          [
                            0.6666666666666666,
                            "#ed7953"
                          ],
                          [
                            0.7777777777777778,
                            "#fb9f3a"
                          ],
                          [
                            0.8888888888888888,
                            "#fdca26"
                          ],
                          [
                            1,
                            "#f0f921"
                          ]
                        ],
                        "type": "heatmapgl"
                      }
                    ],
                    "histogram": [
                      {
                        "marker": {
                          "pattern": {
                            "fillmode": "overlay",
                            "size": 10,
                            "solidity": 0.2
                          }
                        },
                        "type": "histogram"
                      }
                    ],
                    "histogram2d": [
                      {
                        "colorbar": {
                          "outlinewidth": 0,
                          "ticks": ""
                        },
                        "colorscale": [
                          [
                            0,
                            "#0d0887"
                          ],
                          [
                            0.1111111111111111,
                            "#46039f"
                          ],
                          [
                            0.2222222222222222,
                            "#7201a8"
                          ],
                          [
                            0.3333333333333333,
                            "#9c179e"
                          ],
                          [
                            0.4444444444444444,
                            "#bd3786"
                          ],
                          [
                            0.5555555555555556,
                            "#d8576b"
                          ],
                          [
                            0.6666666666666666,
                            "#ed7953"
                          ],
                          [
                            0.7777777777777778,
                            "#fb9f3a"
                          ],
                          [
                            0.8888888888888888,
                            "#fdca26"
                          ],
                          [
                            1,
                            "#f0f921"
                          ]
                        ],
                        "type": "histogram2d"
                      }
                    ],
                    "histogram2dcontour": [
                      {
                        "colorbar": {
                          "outlinewidth": 0,
                          "ticks": ""
                        },
                        "colorscale": [
                          [
                            0,
                            "#0d0887"
                          ],
                          [
                            0.1111111111111111,
                            "#46039f"
                          ],
                          [
                            0.2222222222222222,
                            "#7201a8"
                          ],
                          [
                            0.3333333333333333,
                            "#9c179e"
                          ],
                          [
                            0.4444444444444444,
                            "#bd3786"
                          ],
                          [
                            0.5555555555555556,
                            "#d8576b"
                          ],
                          [
                            0.6666666666666666,
                            "#ed7953"
                          ],
                          [
                            0.7777777777777778,
                            "#fb9f3a"
                          ],
                          [
                            0.8888888888888888,
                            "#fdca26"
                          ],
                          [
                            1,
                            "#f0f921"
                          ]
                        ],
                        "type": "histogram2dcontour"
                      }
                    ],
                    "mesh3d": [
                      {
                        "colorbar": {
                          "outlinewidth": 0,
                          "ticks": ""
                        },
                        "type": "mesh3d"
                      }
                    ],
                    "parcoords": [
                      {
                        "line": {
                          "colorbar": {
                            "outlinewidth": 0,
                            "ticks": ""
                          }
                        },
                        "type": "parcoords"
                      }
                    ],
                    "pie": [
                      {
                        "automargin": true,
                        "type": "pie"
                      }
                    ],
                    "scatter": [
                      {
                        "marker": {
                          "colorbar": {
                            "outlinewidth": 0,
                            "ticks": ""
                          }
                        },
                        "type": "scatter"
                      }
                    ],
                    "scatter3d": [
                      {
                        "line": {
                          "colorbar": {
                            "outlinewidth": 0,
                            "ticks": ""
                          }
                        },
                        "marker": {
                          "colorbar": {
                            "outlinewidth": 0,
                            "ticks": ""
                          }
                        },
                        "type": "scatter3d"
                      }
                    ],
                    "scattercarpet": [
                      {
                        "marker": {
                          "colorbar": {
                            "outlinewidth": 0,
                            "ticks": ""
                          }
                        },
                        "type": "scattercarpet"
                      }
                    ],
                    "scattergeo": [
                      {
                        "marker": {
                          "colorbar": {
                            "outlinewidth": 0,
                            "ticks": ""
                          }
                        },
                        "type": "scattergeo"
                      }
                    ],
                    "scattergl": [
                      {
                        "marker": {
                          "colorbar": {
                            "outlinewidth": 0,
                            "ticks": ""
                          }
                        },
                        "type": "scattergl"
                      }
                    ],
                    "scattermapbox": [
                      {
                        "marker": {
                          "colorbar": {
                            "outlinewidth": 0,
                            "ticks": ""
                          }
                        },
                        "type": "scattermapbox"
                      }
                    ],
                    "scatterpolar": [
                      {
                        "marker": {
                          "colorbar": {
                            "outlinewidth": 0,
                            "ticks": ""
                          }
                        },
                        "type": "scatterpolar"
                      }
                    ],
                    "scatterpolargl": [
                      {
                        "marker": {
                          "colorbar": {
                            "outlinewidth": 0,
                            "ticks": ""
                          }
                        },
                        "type": "scatterpolargl"
                      }
                    ],
                    "scatterternary": [
                      {
                        "marker": {
                          "colorbar": {
                            "outlinewidth": 0,
                            "ticks": ""
                          }
                        },
                        "type": "scatterternary"
                      }
                    ],
                    "surface": [
                      {
                        "colorbar": {
                          "outlinewidth": 0,
                          "ticks": ""
                        },
                        "colorscale": [
                          [
                            0,
                            "#0d0887"
                          ],
                          [
                            0.1111111111111111,
                            "#46039f"
                          ],
                          [
                            0.2222222222222222,
                            "#7201a8"
                          ],
                          [
                            0.3333333333333333,
                            "#9c179e"
                          ],
                          [
                            0.4444444444444444,
                            "#bd3786"
                          ],
                          [
                            0.5555555555555556,
                            "#d8576b"
                          ],
                          [
                            0.6666666666666666,
                            "#ed7953"
                          ],
                          [
                            0.7777777777777778,
                            "#fb9f3a"
                          ],
                          [
                            0.8888888888888888,
                            "#fdca26"
                          ],
                          [
                            1,
                            "#f0f921"
                          ]
                        ],
                        "type": "surface"
                      }
                    ],
                    "table": [
                      {
                        "cells": {
                          "fill": {
                            "color": "#EBF0F8"
                          },
                          "line": {
                            "color": "white"
                          }
                        },
                        "header": {
                          "fill": {
                            "color": "#C8D4E3"
                          },
                          "line": {
                            "color": "white"
                          }
                        },
                        "type": "table"
                      }
                    ]
                  },
                  "layout": {
                    "annotationdefaults": {
                      "arrowcolor": "#2a3f5f",
                      "arrowhead": 0,
                      "arrowwidth": 1
                    },
                    "autotypenumbers": "strict",
                    "coloraxis": {
                      "colorbar": {
                        "outlinewidth": 0,
                        "ticks": ""
                      }
                    },
                    "colorscale": {
                      "diverging": [
                        [
                          0,
                          "#8e0152"
                        ],
                        [
                          0.1,
                          "#c51b7d"
                        ],
                        [
                          0.2,
                          "#de77ae"
                        ],
                        [
                          0.3,
                          "#f1b6da"
                        ],
                        [
                          0.4,
                          "#fde0ef"
                        ],
                        [
                          0.5,
                          "#f7f7f7"
                        ],
                        [
                          0.6,
                          "#e6f5d0"
                        ],
                        [
                          0.7,
                          "#b8e186"
                        ],
                        [
                          0.8,
                          "#7fbc41"
                        ],
                        [
                          0.9,
                          "#4d9221"
                        ],
                        [
                          1,
                          "#276419"
                        ]
                      ],
                      "sequential": [
                        [
                          0,
                          "#0d0887"
                        ],
                        [
                          0.1111111111111111,
                          "#46039f"
                        ],
                        [
                          0.2222222222222222,
                          "#7201a8"
                        ],
                        [
                          0.3333333333333333,
                          "#9c179e"
                        ],
                        [
                          0.4444444444444444,
                          "#bd3786"
                        ],
                        [
                          0.5555555555555556,
                          "#d8576b"
                        ],
                        [
                          0.6666666666666666,
                          "#ed7953"
                        ],
                        [
                          0.7777777777777778,
                          "#fb9f3a"
                        ],
                        [
                          0.8888888888888888,
                          "#fdca26"
                        ],
                        [
                          1,
                          "#f0f921"
                        ]
                      ],
                      "sequentialminus": [
                        [
                          0,
                          "#0d0887"
                        ],
                        [
                          0.1111111111111111,
                          "#46039f"
                        ],
                        [
                          0.2222222222222222,
                          "#7201a8"
                        ],
                        [
                          0.3333333333333333,
                          "#9c179e"
                        ],
                        [
                          0.4444444444444444,
                          "#bd3786"
                        ],
                        [
                          0.5555555555555556,
                          "#d8576b"
                        ],
                        [
                          0.6666666666666666,
                          "#ed7953"
                        ],
                        [
                          0.7777777777777778,
                          "#fb9f3a"
                        ],
                        [
                          0.8888888888888888,
                          "#fdca26"
                        ],
                        [
                          1,
                          "#f0f921"
                        ]
                      ]
                    },
                    "colorway": [
                      "#636efa",
                      "#EF553B",
                      "#00cc96",
                      "#ab63fa",
                      "#FFA15A",
                      "#19d3f3",
                      "#FF6692",
                      "#B6E880",
                      "#FF97FF",
                      "#FECB52"
                    ],
                    "font": {
                      "color": "#2a3f5f"
                    },
                    "geo": {
                      "bgcolor": "white",
                      "lakecolor": "white",
                      "landcolor": "#E5ECF6",
                      "showlakes": true,
                      "showland": true,
                      "subunitcolor": "white"
                    },
                    "hoverlabel": {
                      "align": "left"
                    },
                    "hovermode": "closest",
                    "mapbox": {
                      "style": "light"
                    },
                    "paper_bgcolor": "white",
                    "plot_bgcolor": "#E5ECF6",
                    "polar": {
                      "angularaxis": {
                        "gridcolor": "white",
                        "linecolor": "white",
                        "ticks": ""
                      },
                      "bgcolor": "#E5ECF6",
                      "radialaxis": {
                        "gridcolor": "white",
                        "linecolor": "white",
                        "ticks": ""
                      }
                    },
                    "scene": {
                      "xaxis": {
                        "backgroundcolor": "#E5ECF6",
                        "gridcolor": "white",
                        "gridwidth": 2,
                        "linecolor": "white",
                        "showbackground": true,
                        "ticks": "",
                        "zerolinecolor": "white"
                      },
                      "yaxis": {
                        "backgroundcolor": "#E5ECF6",
                        "gridcolor": "white",
                        "gridwidth": 2,
                        "linecolor": "white",
                        "showbackground": true,
                        "ticks": "",
                        "zerolinecolor": "white"
                      },
                      "zaxis": {
                        "backgroundcolor": "#E5ECF6",
                        "gridcolor": "white",
                        "gridwidth": 2,
                        "linecolor": "white",
                        "showbackground": true,
                        "ticks": "",
                        "zerolinecolor": "white"
                      }
                    },
                    "shapedefaults": {
                      "line": {
                        "color": "#2a3f5f"
                      }
                    },
                    "ternary": {
                      "aaxis": {
                        "gridcolor": "white",
                        "linecolor": "white",
                        "ticks": ""
                      },
                      "baxis": {
                        "gridcolor": "white",
                        "linecolor": "white",
                        "ticks": ""
                      },
                      "bgcolor": "#E5ECF6",
                      "caxis": {
                        "gridcolor": "white",
                        "linecolor": "white",
                        "ticks": ""
                      }
                    },
                    "title": {
                      "x": 0.05
                    },
                    "xaxis": {
                      "automargin": true,
                      "gridcolor": "white",
                      "linecolor": "white",
                      "ticks": "",
                      "title": {
                        "standoff": 15
                      },
                      "zerolinecolor": "white",
                      "zerolinewidth": 2
                    },
                    "yaxis": {
                      "automargin": true,
                      "gridcolor": "white",
                      "linecolor": "white",
                      "ticks": "",
                      "title": {
                        "standoff": 15
                      },
                      "zerolinecolor": "white",
                      "zerolinewidth": 2
                    }
                  }
                },
                "title": {
                  "font": {
                    "size": 20,
                    "color": "black"
                  },
                  "text": "Fama-Macbeth Linear Regression"
                },
                "legend": {
                  "orientation": "h",
                  "yanchor": "bottom",
                  "y": 0.93,
                  "xanchor": "right",
                  "x": 0.4
                },
                "font": {
                  "size": 8,
                  "color": "black"
                },
                "xaxis": {
                  "title": {
                    "text": "Date"
                  },
                  "showline": true,
                  "showgrid": false,
                  "showticklabels": true,
                  "zeroline": false,
                  "mirror": true,
                  "linecolor": "black",
                  "linewidth": 0.8,
                  "ticks": "outside"
                },
                "yaxis": {
                  "title": {
                    "text": "\bFactor Risk Premium"
                  },
                  "showline": true,
                  "showgrid": false,
                  "showticklabels": true,
                  "zeroline": false,
                  "mirror": true,
                  "linecolor": "black",
                  "linewidth": 0.8,
                  "ticks": "outside"
                },
                "autosize": true,
                "showlegend": true,
                "plot_bgcolor": "white",
                "paper_bgcolor": "white",
                "width": 1000,
                "height": 600,
                "annotations": [
                  {
                    "align": "right",
                    "font": {
                      "color": "grey",
                      "size": 8
                    },
                    "showarrow": false,
                    "text": "Information",
                    "x": 1.08,
                    "xref": "paper",
                    "y": 1.2,
                    "yref": "paper"
                  },
                  {
                    "align": "right",
                    "font": {
                      "color": "grey",
                      "size": 8
                    },
                    "showarrow": false,
                    "text": "Linkedin: ~/chacehkk",
                    "x": 1.08,
                    "xref": "paper",
                    "y": 1.18,
                    "yref": "paper"
                  },
                  {
                    "align": "right",
                    "font": {
                      "color": "grey",
                      "size": 8
                    },
                    "showarrow": false,
                    "text": "Github: ~/hyksun2015",
                    "x": 1.08,
                    "xref": "paper",
                    "y": 1.16,
                    "yref": "paper"
                  },
                  {
                    "align": "right",
                    "font": {
                      "color": "black",
                      "size": 8
                    },
                    "showarrow": false,
                    "text": "Source: famafrench",
                    "x": 1.08,
                    "xref": "paper",
                    "y": -0.08,
                    "yref": "paper"
                  },
                  {
                    "align": "right",
                    "font": {
                      "color": "black",
                      "size": 8
                    },
                    "showarrow": false,
                    "text": "Data period: 2012.05.01 - 2022.07.31",
                    "x": 1.08,
                    "xref": "paper",
                    "y": -0.1,
                    "yref": "paper"
                  }
                ]
              },
              "config": {
                "plotlyServerURL": "https://plot.ly"
              }
            }
          },
          "metadata": {}
        }
      ],
      "metadata": {
        "colab": {
          "base_uri": "https://localhost:8080/",
          "height": 617
        },
        "id": "efXOx4MIvSE6",
        "outputId": "45d7316a-48b8-408b-d5c3-b1645ce7fbd1"
      }
    }
  ]
}